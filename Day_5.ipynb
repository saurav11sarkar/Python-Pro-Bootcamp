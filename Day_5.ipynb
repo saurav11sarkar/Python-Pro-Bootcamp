{
  "nbformat": 4,
  "nbformat_minor": 0,
  "metadata": {
    "colab": {
      "provenance": [],
      "authorship_tag": "ABX9TyOwUg9xNEQ8xYS+lnol3Tni",
      "include_colab_link": true
    },
    "kernelspec": {
      "name": "python3",
      "display_name": "Python 3"
    },
    "language_info": {
      "name": "python"
    }
  },
  "cells": [
    {
      "cell_type": "markdown",
      "metadata": {
        "id": "view-in-github",
        "colab_type": "text"
      },
      "source": [
        "<a href=\"https://colab.research.google.com/github/saurav11sarkar/Python-Pro-Bootcamp/blob/main/Day_5.ipynb\" target=\"_parent\"><img src=\"https://colab.research.google.com/assets/colab-badge.svg\" alt=\"Open In Colab\"/></a>"
      ]
    },
    {
      "cell_type": "code",
      "execution_count": null,
      "metadata": {
        "colab": {
          "base_uri": "https://localhost:8080/"
        },
        "id": "zHRymxWW0srf",
        "outputId": "2a2b6cca-3a58-476c-ab01-34249a75c0ec"
      },
      "outputs": [
        {
          "output_type": "stream",
          "name": "stdout",
          "text": [
            "Apple\n",
            "peach\n",
            "Pear\n"
          ]
        }
      ],
      "source": [
        "# for loop\n",
        "fruit = ['Apple','peach','Pear']\n",
        "for i in fruit:\n",
        "  print(i)"
      ]
    },
    {
      "cell_type": "code",
      "source": [
        "# Average Height Exercise\n",
        "student_heights = input(\"input a list of student heights \").split(',')\n",
        "sum = 0\n",
        "count = 0\n",
        "for item in student_heights:\n",
        "  count += 1\n",
        "  sum += int(item)\n",
        "print(sum)\n",
        "print(count)\n",
        "print(f\"Student height avearge {round(sum/count)}\")"
      ],
      "metadata": {
        "colab": {
          "base_uri": "https://localhost:8080/"
        },
        "id": "0fPX_0-PGIeE",
        "outputId": "be1e7cdf-ee75-4447-dfb5-2107cba211a9"
      },
      "execution_count": null,
      "outputs": [
        {
          "output_type": "stream",
          "name": "stdout",
          "text": [
            "input a list of student heights 1,2,3,4,5\n",
            "15\n",
            "5\n",
            "Student height avearge 3\n"
          ]
        }
      ]
    },
    {
      "cell_type": "code",
      "source": [
        "student_heights = input(\"input a list of student heights \").split(',')\n",
        "lis = []\n",
        "for i in range(0,len(student_heights)):\n",
        "  lis.append(int(student_heights[i]))\n",
        "print(lis)\n",
        "total_sum = sum(lis)\n",
        "total = round(total_sum/len(lis))\n",
        "print(total)"
      ],
      "metadata": {
        "colab": {
          "base_uri": "https://localhost:8080/"
        },
        "id": "RPQCDjdLKzTI",
        "outputId": "738ce959-8a47-4997-dd64-e193cafad466"
      },
      "execution_count": null,
      "outputs": [
        {
          "output_type": "stream",
          "name": "stdout",
          "text": [
            "input a list of student heights 1,2,3,4,5,6,7\n",
            "[1, 2, 3, 4, 5, 6, 7]\n",
            "4\n"
          ]
        }
      ]
    },
    {
      "cell_type": "code",
      "source": [
        "# highest score\n",
        "number = input(\"Input a list student score : \").split(\" \")\n",
        "max_number = 0\n",
        "for i in number:\n",
        "  if int(i) > max_number:\n",
        "    max_number = int(i)\n",
        "print(f\"The highast score in the class : {max_number}\")"
      ],
      "metadata": {
        "id": "kJTI0FILL9dL",
        "colab": {
          "base_uri": "https://localhost:8080/"
        },
        "outputId": "1fd43a36-a4a4-4f89-d48f-a5e121c185b8"
      },
      "execution_count": null,
      "outputs": [
        {
          "output_type": "stream",
          "name": "stdout",
          "text": [
            "Input a list student score : 78 65 89 55 91 64 89\n",
            "The highast score in the class : 91\n"
          ]
        }
      ]
    },
    {
      "cell_type": "code",
      "source": [
        "total = 0\n",
        "for i in range(1,101):\n",
        "  total += i\n",
        "print(total)"
      ],
      "metadata": {
        "colab": {
          "base_uri": "https://localhost:8080/"
        },
        "id": "8uyKPkomOD_P",
        "outputId": "2bbfa855-8f73-41b0-a744-db0c5691823e"
      },
      "execution_count": null,
      "outputs": [
        {
          "output_type": "stream",
          "name": "stdout",
          "text": [
            "5050\n"
          ]
        }
      ]
    },
    {
      "cell_type": "code",
      "source": [
        "for i in range(10,0,-1):\n",
        "  print(i)"
      ],
      "metadata": {
        "id": "9L62fM1LOhx2",
        "colab": {
          "base_uri": "https://localhost:8080/"
        },
        "outputId": "14f0899f-4d5a-45c8-9852-cb316e15d7fd"
      },
      "execution_count": null,
      "outputs": [
        {
          "output_type": "stream",
          "name": "stdout",
          "text": [
            "10\n",
            "9\n",
            "8\n",
            "7\n",
            "6\n",
            "5\n",
            "4\n",
            "3\n",
            "2\n",
            "1\n"
          ]
        }
      ]
    },
    {
      "cell_type": "code",
      "source": [
        "total = 0\n",
        "for i in range(2,101,2):\n",
        "  total += i\n",
        "print(total)"
      ],
      "metadata": {
        "colab": {
          "base_uri": "https://localhost:8080/"
        },
        "id": "eHR_MGV5Aaf9",
        "outputId": "1f07478a-432d-40b3-d9f3-1e289e8892bd"
      },
      "execution_count": null,
      "outputs": [
        {
          "output_type": "stream",
          "name": "stdout",
          "text": [
            "2550\n"
          ]
        }
      ]
    },
    {
      "cell_type": "code",
      "source": [
        "# FizzBuzz game\n",
        "for i in range(1,20):\n",
        "  if i % 3 == 0 and i % 5 == 0:\n",
        "    print('FizzBuzz')\n",
        "  if i % 3 == 0:\n",
        "    print('Fizz')\n",
        "  elif i % 5 == 0:\n",
        "    print('Buzz')\n",
        "  else:\n",
        "    print(i)\n"
      ],
      "metadata": {
        "id": "_w7CmYYtAy_D",
        "colab": {
          "base_uri": "https://localhost:8080/"
        },
        "outputId": "923d380c-276a-43ff-915e-2fe3d8d2b5e7"
      },
      "execution_count": 11,
      "outputs": [
        {
          "output_type": "stream",
          "name": "stdout",
          "text": [
            "1\n",
            "2\n",
            "Fizz\n",
            "4\n",
            "Buzz\n",
            "Fizz\n",
            "7\n",
            "8\n",
            "Fizz\n",
            "Buzz\n",
            "11\n",
            "Fizz\n",
            "13\n",
            "14\n",
            "FizzBuzz\n",
            "Fizz\n",
            "16\n",
            "17\n",
            "Fizz\n",
            "19\n"
          ]
        }
      ]
    },
    {
      "cell_type": "code",
      "source": [
        "#Password Generator Project simple lavel\n",
        "import random\n",
        "letters = ['a', 'b', 'c', 'd', 'e', 'f', 'g', 'h', 'i', 'j', 'k', 'l', 'm', 'n', 'o', 'p', 'q', 'r', 's', 't', 'u', 'v', 'w', 'x', 'y', 'z', 'A', 'B', 'C', 'D', 'E', 'F', 'G', 'H', 'I', 'J', 'K', 'L', 'M', 'N', 'O', 'P', 'Q', 'R', 'S', 'T', 'U', 'V', 'W', 'X', 'Y', 'Z']\n",
        "numbers = ['0', '1', '2', '3', '4', '5', '6', '7', '8', '9']\n",
        "symbols = ['!', '#', '$', '%', '&', '(', ')', '*', '+']\n",
        "\n",
        "print(\"Welcome to the PyPassword Generator!\")\n",
        "nr_letters= int(input(\"How many letters would you like in your password?\\n\"))\n",
        "nr_symbols = int(input(f\"How many symbols would you like?\\n\"))\n",
        "nr_numbers = int(input(f\"How many numbers would you like?\\n\"))\n",
        "password = \"\"\n",
        "for i in range(1,nr_letters+1):\n",
        "  password += random.choice(letters)\n",
        "for i in range(1,nr_numbers):\n",
        "  password += random.choice(symbols)\n",
        "for i in range(1,nr_symbols+1):\n",
        "  password += random.choice(numbers)\n",
        "\n",
        "print(password)"
      ],
      "metadata": {
        "colab": {
          "base_uri": "https://localhost:8080/"
        },
        "id": "gsensGrz15ML",
        "outputId": "14578621-ced7-4515-eabb-65876e5563cf"
      },
      "execution_count": 15,
      "outputs": [
        {
          "output_type": "stream",
          "name": "stdout",
          "text": [
            "Welcome to the PyPassword Generator!\n",
            "How many letters would you like in your password?\n",
            "5\n",
            "How many symbols would you like?\n",
            "3\n",
            "How many numbers would you like?\n",
            "2\n",
            "LMRDc+124\n"
          ]
        }
      ]
    },
    {
      "cell_type": "code",
      "source": [
        "#Password Generator Project heard lavel\n",
        "import random\n",
        "letters = ['a', 'b', 'c', 'd', 'e', 'f', 'g', 'h', 'i', 'j', 'k', 'l', 'm', 'n', 'o', 'p', 'q', 'r', 's', 't', 'u', 'v', 'w', 'x', 'y', 'z', 'A', 'B', 'C', 'D', 'E', 'F', 'G', 'H', 'I', 'J', 'K', 'L', 'M', 'N', 'O', 'P', 'Q', 'R', 'S', 'T', 'U', 'V', 'W', 'X', 'Y', 'Z']\n",
        "numbers = ['0', '1', '2', '3', '4', '5', '6', '7', '8', '9']\n",
        "symbols = ['!', '#', '$', '%', '&', '(', ')', '*', '+']\n",
        "\n",
        "print(\"Welcome to the PyPassword Generator!\")\n",
        "nr_letters= int(input(\"How many letters would you like in your password?\\n\"))\n",
        "nr_symbols = int(input(f\"How many symbols would you like?\\n\"))\n",
        "nr_numbers = int(input(f\"How many numbers would you like?\\n\"))\n",
        "\n",
        "password = []\n",
        "for i in range(1,nr_letters+1):\n",
        "  password.append(random.choice(letters))\n",
        "for i in range(1,nr_numbers):\n",
        "  password.append(random.choice(symbols))\n",
        "for i in range(1,nr_symbols+1):\n",
        "  password.append(random.choice(numbers))\n",
        "\n",
        "random.shuffle(password)\n",
        "ge_pass = \"\"\n",
        "for char in password:\n",
        "  ge_pass += char\n",
        "print(f\"Your password is : {ge_pass}\")\n"
      ],
      "metadata": {
        "colab": {
          "base_uri": "https://localhost:8080/"
        },
        "id": "w8X_lb0WCaxh",
        "outputId": "0d05e00e-ec39-4148-9889-d633394aea5c"
      },
      "execution_count": 24,
      "outputs": [
        {
          "output_type": "stream",
          "name": "stdout",
          "text": [
            "Welcome to the PyPassword Generator!\n",
            "How many letters would you like in your password?\n",
            "2\n",
            "How many symbols would you like?\n",
            "3\n",
            "How many numbers would you like?\n",
            "1\n",
            "Your password is : 9da81\n"
          ]
        }
      ]
    },
    {
      "cell_type": "code",
      "source": [],
      "metadata": {
        "id": "2mogCDIYFrNi"
      },
      "execution_count": null,
      "outputs": []
    }
  ]
}