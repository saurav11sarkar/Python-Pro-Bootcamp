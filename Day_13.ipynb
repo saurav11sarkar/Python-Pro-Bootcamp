{
  "nbformat": 4,
  "nbformat_minor": 0,
  "metadata": {
    "colab": {
      "provenance": [],
      "authorship_tag": "ABX9TyNJglr5P5S/nDq1zIL3xS1+",
      "include_colab_link": true
    },
    "kernelspec": {
      "name": "python3",
      "display_name": "Python 3"
    },
    "language_info": {
      "name": "python"
    }
  },
  "cells": [
    {
      "cell_type": "markdown",
      "metadata": {
        "id": "view-in-github",
        "colab_type": "text"
      },
      "source": [
        "<a href=\"https://colab.research.google.com/github/saurav11sarkar/Python-Pro-Bootcamp/blob/main/Day_13.ipynb\" target=\"_parent\"><img src=\"https://colab.research.google.com/assets/colab-badge.svg\" alt=\"Open In Colab\"/></a>"
      ]
    },
    {
      "cell_type": "code",
      "execution_count": 1,
      "metadata": {
        "id": "phekgxFpxaYC"
      },
      "outputs": [],
      "source": [
        "############DEBUGGING#####################"
      ]
    },
    {
      "cell_type": "code",
      "source": [
        "# Describe Problem\n",
        "def my_function():\n",
        "  for i in range(1, 21):\n",
        "    if i == 20:\n",
        "      print(\"You got it\")\n",
        "my_function()"
      ],
      "metadata": {
        "colab": {
          "base_uri": "https://localhost:8080/"
        },
        "id": "lVpREU8J1PBu",
        "outputId": "12531f7c-76ef-479b-b901-1f6b63bc5c38"
      },
      "execution_count": 13,
      "outputs": [
        {
          "output_type": "stream",
          "name": "stdout",
          "text": [
            "You got it\n"
          ]
        }
      ]
    },
    {
      "cell_type": "code",
      "source": [
        "# Reproduce the Bug\n",
        "from random import randint\n",
        "dice_imgs = [\"❶\", \"❷\", \"❸\", \"❹\", \"❺\", \"❻\"]\n",
        "dice_num = randint(0, 5)\n",
        "print(dice_imgs[dice_num])"
      ],
      "metadata": {
        "colab": {
          "base_uri": "https://localhost:8080/"
        },
        "id": "ALy6mOVQ1UM4",
        "outputId": "d985805e-d554-4bff-8522-1a5dd9fb1bbd"
      },
      "execution_count": 17,
      "outputs": [
        {
          "output_type": "stream",
          "name": "stdout",
          "text": [
            "❻\n"
          ]
        }
      ]
    },
    {
      "cell_type": "code",
      "source": [
        "# Play Computer\n",
        "year = int(input(\"What's your year of birth?\"))\n",
        "if year > 1980 and year <= 1994:\n",
        "  print(\"You are a millenial.\")\n",
        "elif year > 1994:\n",
        "  print(\"You are a Gen Z.\")"
      ],
      "metadata": {
        "colab": {
          "base_uri": "https://localhost:8080/"
        },
        "id": "uWARQW2i1jG3",
        "outputId": "6082145d-4434-4ab3-e5b3-0ae7f0ba9f80"
      },
      "execution_count": 22,
      "outputs": [
        {
          "output_type": "stream",
          "name": "stdout",
          "text": [
            "What's your year of birth?1999\n",
            "You are a Gen Z.\n"
          ]
        }
      ]
    },
    {
      "cell_type": "code",
      "source": [
        "# Fix the Errors\n",
        "age = int(input(\"How old are you?\"))\n",
        "if age > 18:\n",
        "  print(f\"You can drive at age {age}.\")"
      ],
      "metadata": {
        "colab": {
          "base_uri": "https://localhost:8080/"
        },
        "id": "xZOQcO173txu",
        "outputId": "8db38455-4876-4b52-d3b7-37f9e9f9eeae"
      },
      "execution_count": 25,
      "outputs": [
        {
          "output_type": "stream",
          "name": "stdout",
          "text": [
            "How old are you?23\n",
            "You can drive at age 23.\n"
          ]
        }
      ]
    },
    {
      "cell_type": "code",
      "source": [
        "#Print is Your Friend\n",
        "pages = 0\n",
        "word_per_page = 0\n",
        "pages = int(input(\"Number of pages: \"))\n",
        "word_per_page = int(input(\"Number of words per page: \"))\n",
        "total_words = pages * word_per_page\n",
        "print(total_words)"
      ],
      "metadata": {
        "colab": {
          "base_uri": "https://localhost:8080/"
        },
        "id": "jg51PaPL4_O8",
        "outputId": "54c8eb22-89d1-48d3-f41d-c2c7fa9140e0"
      },
      "execution_count": 27,
      "outputs": [
        {
          "output_type": "stream",
          "name": "stdout",
          "text": [
            "Number of pages: 45\n",
            "Number of words per page: 77\n",
            "3465\n"
          ]
        }
      ]
    },
    {
      "cell_type": "code",
      "source": [
        "#Use a Debugger\n",
        "def mutate(a_list):\n",
        "  b_list = []\n",
        "  for item in a_list:\n",
        "    new_item = item * 2\n",
        "    b_list.append(new_item)\n",
        "  print(b_list)\n",
        "mutate([1,2,3,5,8,13])"
      ],
      "metadata": {
        "colab": {
          "base_uri": "https://localhost:8080/"
        },
        "id": "wpjpx0S46CKk",
        "outputId": "44b81ea1-37f2-432a-fbbf-040dd6508686"
      },
      "execution_count": 28,
      "outputs": [
        {
          "output_type": "stream",
          "name": "stdout",
          "text": [
            "[2, 4, 6, 10, 16, 26]\n"
          ]
        }
      ]
    },
    {
      "cell_type": "code",
      "source": [
        "# odd even debugger\n",
        "number = int(input(\"Which number do you want to check?\"))\n",
        "\n",
        "if number % 2 == 0:\n",
        "  print(\"This is an even number.\")\n",
        "else:\n",
        "  print(\"This is an odd number.\")"
      ],
      "metadata": {
        "colab": {
          "base_uri": "https://localhost:8080/"
        },
        "id": "3G5gdXlc9yMU",
        "outputId": "bc674ea1-bd28-43e6-bc84-2e631471f55e"
      },
      "execution_count": 41,
      "outputs": [
        {
          "output_type": "stream",
          "name": "stdout",
          "text": [
            "Which number do you want to check?23\n",
            "This is an odd number.\n"
          ]
        }
      ]
    },
    {
      "cell_type": "code",
      "source": [
        "# leepyear coding debugger\n",
        "year = int(input(\"Which year do you want to check?\"))\n",
        "\n",
        "if year % 4 == 0:\n",
        "  if year % 100 == 0:\n",
        "    if year % 400 == 0:\n",
        "      print(\"Leap year.\")\n",
        "    else:\n",
        "      print(\"Not leap year.\")\n",
        "  else:\n",
        "    print(\"Leap year.\")\n",
        "else:\n",
        "  print(\"Not leap year.\")\n",
        ""
      ],
      "metadata": {
        "colab": {
          "base_uri": "https://localhost:8080/"
        },
        "id": "xcIqhj_fCzmM",
        "outputId": "97eefd8f-ac2d-4c07-93db-4117a498d5a7"
      },
      "execution_count": 45,
      "outputs": [
        {
          "output_type": "stream",
          "name": "stdout",
          "text": [
            "Which year do you want to check?2020\n",
            "Leap year.\n"
          ]
        }
      ]
    },
    {
      "cell_type": "code",
      "source": [
        "for number in range(1, 21):\n",
        "  print(f\"Currently on number {number}\")\n",
        "  if number % 3 == 0 and number % 5 == 0:\n",
        "    print(\"FizzBuzz\")\n",
        "  elif number % 3 == 0:\n",
        "    print(\"Fizz\")\n",
        "  elif number % 5 == 0:\n",
        "    print(\"Buzz\")\n",
        "  else:\n",
        "    print(number)"
      ],
      "metadata": {
        "colab": {
          "base_uri": "https://localhost:8080/"
        },
        "id": "A4ONbWBfFQi8",
        "outputId": "db840e4b-6bd7-436d-ef86-aa854142d38c"
      },
      "execution_count": 50,
      "outputs": [
        {
          "output_type": "stream",
          "name": "stdout",
          "text": [
            "Currently on number 1\n",
            "1\n",
            "Currently on number 2\n",
            "2\n",
            "Currently on number 3\n",
            "Fizz\n",
            "Currently on number 4\n",
            "4\n",
            "Currently on number 5\n",
            "Buzz\n",
            "Currently on number 6\n",
            "Fizz\n",
            "Currently on number 7\n",
            "7\n",
            "Currently on number 8\n",
            "8\n",
            "Currently on number 9\n",
            "Fizz\n",
            "Currently on number 10\n",
            "Buzz\n",
            "Currently on number 11\n",
            "11\n",
            "Currently on number 12\n",
            "Fizz\n",
            "Currently on number 13\n",
            "13\n",
            "Currently on number 14\n",
            "14\n",
            "Currently on number 15\n",
            "FizzBuzz\n",
            "Currently on number 16\n",
            "16\n",
            "Currently on number 17\n",
            "17\n",
            "Currently on number 18\n",
            "Fizz\n",
            "Currently on number 19\n",
            "19\n",
            "Currently on number 20\n",
            "Buzz\n"
          ]
        }
      ]
    },
    {
      "cell_type": "code",
      "source": [],
      "metadata": {
        "id": "EFDU29M1IdYv"
      },
      "execution_count": null,
      "outputs": []
    }
  ]
}