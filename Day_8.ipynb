{
  "nbformat": 4,
  "nbformat_minor": 0,
  "metadata": {
    "colab": {
      "provenance": [],
      "authorship_tag": "ABX9TyNyFiAXmwZJnLBhHyeFKO8l",
      "include_colab_link": true
    },
    "kernelspec": {
      "name": "python3",
      "display_name": "Python 3"
    },
    "language_info": {
      "name": "python"
    }
  },
  "cells": [
    {
      "cell_type": "markdown",
      "metadata": {
        "id": "view-in-github",
        "colab_type": "text"
      },
      "source": [
        "<a href=\"https://colab.research.google.com/github/saurav11sarkar/Python-Pro-Bootcamp/blob/main/Day_8.ipynb\" target=\"_parent\"><img src=\"https://colab.research.google.com/assets/colab-badge.svg\" alt=\"Open In Colab\"/></a>"
      ]
    },
    {
      "cell_type": "code",
      "execution_count": null,
      "metadata": {
        "colab": {
          "base_uri": "https://localhost:8080/"
        },
        "id": "ecJjjE2GJIRK",
        "outputId": "5069afdb-8369-4d53-ac45-11c1865fe3c1"
      },
      "outputs": [
        {
          "output_type": "stream",
          "name": "stdout",
          "text": [
            "Hello\n",
            "How do you do?\n",
            "Isn't the weather nice today?\n"
          ]
        }
      ],
      "source": [
        "def gread():\n",
        "  print('Hello')\n",
        "  print('How do you do?')\n",
        "  print('Isn\\'t the weather nice today?')\n",
        "\n",
        "gread()"
      ]
    },
    {
      "cell_type": "code",
      "source": [
        "def my_funcation(something):\n",
        "  # return something\n",
        "  return f\"{gread()} {something}\"\n",
        "\n",
        "print(my_funcation(123))"
      ],
      "metadata": {
        "colab": {
          "base_uri": "https://localhost:8080/",
          "height": 88
        },
        "id": "JmUmUCqpKyf1",
        "outputId": "9830cde5-d030-4bb6-bc27-3ebaf1009534"
      },
      "execution_count": null,
      "outputs": [
        {
          "output_type": "stream",
          "name": "stdout",
          "text": [
            "Hello\n",
            "How do you do?\n",
            "Isn't the weather nice today?\n"
          ]
        },
        {
          "output_type": "execute_result",
          "data": {
            "text/plain": [
              "'None 123'"
            ],
            "application/vnd.google.colaboratory.intrinsic+json": {
              "type": "string"
            }
          },
          "metadata": {},
          "execution_count": 9
        }
      ]
    },
    {
      "cell_type": "code",
      "source": [
        "def great_with(name,location):\n",
        "  print(f\"hello {name}\")\n",
        "  print(f\"Whit is it like in {location}\")\n",
        "\n",
        "great_with(location='saurav',name='dhaka')"
      ],
      "metadata": {
        "colab": {
          "base_uri": "https://localhost:8080/"
        },
        "id": "Ph2SOugNOSKG",
        "outputId": "33de9e3d-52d3-4288-b684-c373592e3110"
      },
      "execution_count": null,
      "outputs": [
        {
          "output_type": "stream",
          "name": "stdout",
          "text": [
            "hello dhaka\n",
            "Whit is it like in saurav\n"
          ]
        }
      ]
    },
    {
      "cell_type": "code",
      "source": [
        "# Area Calc Exercise\n",
        "import math\n",
        "def number_can(hight,withs,cover):\n",
        "  number = (hight*withs)/cover\n",
        "  print(f\"You'll need {math.ceil(number)} cans of paint\")\n",
        "\n",
        "test_h = int(input('Height of wall : '))\n",
        "test_w = int(input('Width of wall : '))\n",
        "coverage = 5\n",
        "number_can(hight=test_h,withs=test_w,cover=coverage)"
      ],
      "metadata": {
        "colab": {
          "base_uri": "https://localhost:8080/"
        },
        "id": "peFGi-bbR-94",
        "outputId": "62582c56-d8f5-4393-c959-d897d21aaaef"
      },
      "execution_count": null,
      "outputs": [
        {
          "output_type": "stream",
          "name": "stdout",
          "text": [
            "Height of wall : 7\n",
            "Width of wall : 13\n",
            "You'll need 19 cans of paint\n"
          ]
        }
      ]
    },
    {
      "cell_type": "code",
      "source": [
        "# prime number chaker\n",
        "def prime_checker(number):\n",
        "  is_prime = True\n",
        "  for i in range(2,number):\n",
        "    if number % i == 0:\n",
        "      is_prime = False\n",
        "  if is_prime:\n",
        "    print(\"It's a prime number.\")\n",
        "  else:\n",
        "    print(\"It's not a prime number\")\n",
        "\n",
        "prime_checker(4)\n"
      ],
      "metadata": {
        "colab": {
          "base_uri": "https://localhost:8080/"
        },
        "id": "-_jGGFXNXjLA",
        "outputId": "11659a06-aedc-4fc8-ca51-0b7f1c2be267"
      },
      "execution_count": null,
      "outputs": [
        {
          "output_type": "stream",
          "name": "stdout",
          "text": [
            "It's not a prime number\n"
          ]
        }
      ]
    },
    {
      "cell_type": "code",
      "source": [
        "# caesar cipher\n",
        "alphabet = ['a', 'b', 'c', 'd', 'e', 'f', 'g', 'h', 'i', 'j', 'k', 'l', 'm',\n",
        "            'n', 'o', 'p', 'q', 'r', 's', 't', 'u', 'v', 'w', 'x', 'y', 'z',\n",
        "            'a', 'b', 'c', 'd', 'e', 'f', 'g', 'h', 'i', 'j', 'k', 'l', 'm',\n",
        "            'n', 'o', 'p', 'q', 'r', 's', 't', 'u', 'v', 'w', 'x', 'y', 'z']\n",
        "\n",
        "#Don't change the code above 👆\n",
        "\n",
        "#TODO-1: Create a function called 'encrypt' that takes the 'text'\n",
        "# and 'shift' as inputs.\n",
        "\n",
        "def ceasar(start_text,shift_amount,cipher_direction):\n",
        "  end_text = ''\n",
        "\n",
        "  if cipher_direction == 'decode':\n",
        "    shift_amount *= -1\n",
        "\n",
        "  for letter in start_text:\n",
        "    if letter in alphabet:\n",
        "      position = alphabet.index(letter)\n",
        "      new_position = position + shift_amount\n",
        "      end_text += alphabet[new_position]\n",
        "    else:\n",
        "      end_text += letter\n",
        "\n",
        "  print(f\"The {cipher_direction}d text is {end_text}\")\n",
        "\n",
        "should_end = True\n",
        "while should_end:\n",
        "  direction = input(\"Type 'encode' to encrypt, type 'decode' to decrypt:\\n\")\n",
        "  text = input(\"Type your massage:\\n\").lower()\n",
        "  shift = int(input('Type the shift number:\\n'))\n",
        "  shift = shift % 26\n",
        "  ceasar(start_text=text,shift_amount=shift,cipher_direction=direction)\n",
        "\n",
        "  restart = input(\"Type 'yes' if you want to go again. Otherwise type 'no'.\\n\")\n",
        "  if restart == 'no':\n",
        "    should_end = False\n",
        "    print(\"Wellcome!\")\n"
      ],
      "metadata": {
        "colab": {
          "base_uri": "https://localhost:8080/"
        },
        "id": "nwFFg-jVdtuz",
        "outputId": "86211df7-91e3-4141-bbcd-4c507128b0c6"
      },
      "execution_count": 9,
      "outputs": [
        {
          "name": "stdout",
          "output_type": "stream",
          "text": [
            "Type 'encode' to encrypt, type 'decode' to decrypt:\n",
            "encode\n",
            "Type your massage:\n",
            "hello world\n",
            "Type the shift number:\n",
            "10\n",
            "The encoded text is rovvy gybvn\n",
            "Type 'yes' if you want to go again. Otherwise type 'no'.\n",
            "yes\n",
            "Type 'encode' to encrypt, type 'decode' to decrypt:\n",
            "decode\n",
            "Type your massage:\n",
            "rovvy gybvn\n",
            "Type the shift number:\n",
            "10\n",
            "The decoded text is hello world\n",
            "Type 'yes' if you want to go again. Otherwise type 'no'.\n",
            "no\n"
          ]
        }
      ]
    },
    {
      "cell_type": "code",
      "source": [],
      "metadata": {
        "id": "g-svz99_2Qsj"
      },
      "execution_count": null,
      "outputs": []
    }
  ]
}