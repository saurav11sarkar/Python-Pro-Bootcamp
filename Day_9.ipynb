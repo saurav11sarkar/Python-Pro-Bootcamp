{
  "nbformat": 4,
  "nbformat_minor": 0,
  "metadata": {
    "colab": {
      "provenance": [],
      "authorship_tag": "ABX9TyMA7fbmeUKH0pG6TzB6P/O4",
      "include_colab_link": true
    },
    "kernelspec": {
      "name": "python3",
      "display_name": "Python 3"
    },
    "language_info": {
      "name": "python"
    }
  },
  "cells": [
    {
      "cell_type": "markdown",
      "metadata": {
        "id": "view-in-github",
        "colab_type": "text"
      },
      "source": [
        "<a href=\"https://colab.research.google.com/github/saurav11sarkar/Python-Pro-Bootcamp/blob/main/Day_9.ipynb\" target=\"_parent\"><img src=\"https://colab.research.google.com/assets/colab-badge.svg\" alt=\"Open In Colab\"/></a>"
      ]
    },
    {
      "cell_type": "code",
      "execution_count": 5,
      "metadata": {
        "id": "V0hw-_5vAgi4"
      },
      "outputs": [],
      "source": [
        "program_dictnory = {\n",
        "    \"Bug\": \"An error in a program that prevents the program from running as expected.\",\n",
        "    \"Function\": \"A piece of code that you can easily call over and over again.\",\n",
        "    \"Loop\":\"The action of doing something over and over agian\"\n",
        "\n",
        "                      }"
      ]
    },
    {
      "cell_type": "code",
      "source": [
        "print(program_dictnory['Bug'])\n",
        "program_dictnory['saurav'] = 'My name is saurav sarkar'"
      ],
      "metadata": {
        "colab": {
          "base_uri": "https://localhost:8080/"
        },
        "id": "RiTGfnVACGvO",
        "outputId": "270a12ef-78e7-42ce-f1da-212361cae973"
      },
      "execution_count": 8,
      "outputs": [
        {
          "output_type": "stream",
          "name": "stdout",
          "text": [
            "An error in a program that prevents the program from running as expected.\n"
          ]
        }
      ]
    },
    {
      "cell_type": "code",
      "source": [
        "program_dictnory"
      ],
      "metadata": {
        "colab": {
          "base_uri": "https://localhost:8080/"
        },
        "id": "x1CsCn8CCWp7",
        "outputId": "dc4c36fb-be76-4729-9a7d-2d6a4db3b7bd"
      },
      "execution_count": 9,
      "outputs": [
        {
          "output_type": "execute_result",
          "data": {
            "text/plain": [
              "{'Bug': 'An error in a program that prevents the program from running as expected.',\n",
              " 'Function': 'A piece of code that you can easily call over and over again.',\n",
              " 'Loop': 'The action of doing something over and over agian',\n",
              " 'saurav': 'My name is saurav sarkar'}"
            ]
          },
          "metadata": {},
          "execution_count": 9
        }
      ]
    },
    {
      "cell_type": "code",
      "source": [
        "# loop through a dictionary\n",
        "for key in program_dictnory:\n",
        "  print(key)\n",
        "  print(program_dictnory[key])"
      ],
      "metadata": {
        "colab": {
          "base_uri": "https://localhost:8080/"
        },
        "id": "k-19u_5qEtrr",
        "outputId": "d853fe4e-fdf8-48d9-be7a-20256f488046"
      },
      "execution_count": 11,
      "outputs": [
        {
          "output_type": "stream",
          "name": "stdout",
          "text": [
            "Bug\n",
            "An error in a program that prevents the program from running as expected.\n",
            "Function\n",
            "A piece of code that you can easily call over and over again.\n",
            "Loop\n",
            "The action of doing something over and over agian\n",
            "saurav\n",
            "My name is saurav sarkar\n"
          ]
        }
      ]
    },
    {
      "cell_type": "code",
      "source": [
        "# grading program Exercise\n",
        "student_scores = {\n",
        "    'Harry':81,\n",
        "    'Ron':78,\n",
        "    'Hermione':99,\n",
        "    'Draco':74,\n",
        "    'Neville':62\n",
        "}\n",
        "student_grades = {}\n",
        "for student in student_scores:\n",
        "  score = student_scores[student]\n",
        "  if score > 90 and score <= 100:\n",
        "    student_grades[student] = 'Outstanding'\n",
        "  elif score > 80:\n",
        "    student_grades[student] = 'Exceeds Expectations'\n",
        "  elif score > 70:\n",
        "    student_grades[student] = \"Acceptable\"\n",
        "  else:\n",
        "    student_grades[student] = 'Fail'\n",
        "\n",
        "print(student_grades)"
      ],
      "metadata": {
        "colab": {
          "base_uri": "https://localhost:8080/"
        },
        "id": "if7RIwycGC1b",
        "outputId": "74af6b88-fbe7-4f74-8d1a-4a87636caf93"
      },
      "execution_count": 13,
      "outputs": [
        {
          "output_type": "stream",
          "name": "stdout",
          "text": [
            "{'Harry': 'Exceeds Expectations', 'Ron': 'Acceptable', 'Hermione': 'Outstanding', 'Draco': 'Acceptable', 'Neville': 'Fail'}\n"
          ]
        }
      ]
    },
    {
      "cell_type": "code",
      "source": [
        "#  Nesting\n",
        "capitals = {\n",
        "    'France':'Paris',\n",
        "    'Germany':'Berlin'\n",
        "}\n",
        "# Nesting a List in a Dictionary\n",
        "travel_log = {\n",
        "    'France':{'cities_visited':['Paris','Lille','Dijon'],'total_visits':12},\n",
        "    'Germany':{'cities_visited':['Berlin','Hamburg','Stuttgart'],'total_visits':5}\n",
        "\n",
        "}\n",
        "print(travel_log)"
      ],
      "metadata": {
        "colab": {
          "base_uri": "https://localhost:8080/"
        },
        "id": "CMdWJUX0Igsg",
        "outputId": "65ef57d3-51c1-4c8c-dd8c-6db85167423b"
      },
      "execution_count": 14,
      "outputs": [
        {
          "output_type": "stream",
          "name": "stdout",
          "text": [
            "{'France': {'cities_visited': ['Paris', 'Lille', 'Dijon'], 'total_visits': 12}, 'Germany': {'cities_visited': ['Berlin', 'Hamburg', 'Stuttgart'], 'total_visits': 5}}\n"
          ]
        }
      ]
    },
    {
      "cell_type": "code",
      "source": [
        "# Nesting Dictionary in a List\n",
        "travel_log = [\n",
        "    {\n",
        "    'country':'France',\n",
        "     'cities_visited':['Paris','Lille','Dijon'],\n",
        "     'total_visits':12\n",
        "     },\n",
        "    {\n",
        "    \"country\":'Germany',\n",
        "     'cities_visited':['Berlin','Hamburg','Stuttgart'],\n",
        "     'total_visits':5\n",
        "    }\n",
        "\n",
        "]\n",
        "print(travel_log)"
      ],
      "metadata": {
        "colab": {
          "base_uri": "https://localhost:8080/"
        },
        "id": "S42wG2gyP7Sl",
        "outputId": "eb37232a-9a99-4c42-ebe3-1044e8325ddb"
      },
      "execution_count": 17,
      "outputs": [
        {
          "output_type": "stream",
          "name": "stdout",
          "text": [
            "[{'country': 'France', 'cities_visited': ['Paris', 'Lille', 'Dijon'], 'total_visits': 12}, {'country': 'Germany', 'cities_visited': ['Berlin', 'Hamburg', 'Stuttgart'], 'total_visits': 5}]\n"
          ]
        }
      ]
    },
    {
      "cell_type": "code",
      "source": [
        "def add_new_country(country_visited,cities_visited,times_visited):\n",
        "  new_country = {}\n",
        "  new_country['country'] = country_visited\n",
        "  new_country['cities_visited'] = cities_visited\n",
        "  new_country['total_visits'] = times_visited\n",
        "  travel_log.append(new_country)\n",
        "  print(travel_log)\n",
        "\n",
        "add_new_country(\"Russia\",[\"Moscow\",'Saint Petersburg'],2)"
      ],
      "metadata": {
        "colab": {
          "base_uri": "https://localhost:8080/"
        },
        "id": "a5_qpFFZRZke",
        "outputId": "bd5b5d76-0cff-4c1e-d3b5-29adb3524cd9"
      },
      "execution_count": 19,
      "outputs": [
        {
          "output_type": "stream",
          "name": "stdout",
          "text": [
            "[{'country': 'France', 'cities_visited': ['Paris', 'Lille', 'Dijon'], 'total_visits': 12}, {'country': 'Germany', 'cities_visited': ['Berlin', 'Hamburg', 'Stuttgart'], 'total_visits': 5}, {'country': 'Russia', 'cities_visited': ['Moscow', 'Saint Petersburg'], 'total_visits': 2}, {'country': 'Russia', 'cities_visited': ['Moscow', 'Saint Petersburg'], 'total_visits': 2}]\n"
          ]
        }
      ]
    },
    {
      "cell_type": "code",
      "source": [
        "from IPython.display import clear_output\n",
        "\n",
        "for _ in range(5):\n",
        "  clear_output(wait=False)\n",
        "  print('Hello')"
      ],
      "metadata": {
        "colab": {
          "base_uri": "https://localhost:8080/"
        },
        "id": "JY_bXE1Lea1z",
        "outputId": "1b75b0ed-c28f-4cec-c4b8-2b4b835a540f"
      },
      "execution_count": 22,
      "outputs": [
        {
          "output_type": "stream",
          "name": "stdout",
          "text": [
            "Hello\n"
          ]
        }
      ]
    },
    {
      "cell_type": "code",
      "source": [
        "logo = '''\n",
        "                         ___________\n",
        "                         \\         /\n",
        "                          )_______(\n",
        "                          |\"\"\"\"\"\"\"|_.-._,.---------.,_.-._\n",
        "                          |       | | |               | | ''-.\n",
        "                          |       |_| |_             _| |_..-'\n",
        "                          |_______| '-' `'---------'` '-'\n",
        "                          )\"\"\"\"\"\"\"(\n",
        "                         /_________\\\\\n",
        "                       .-------------.\n",
        "                      /_______________\\\\\n",
        "'''"
      ],
      "metadata": {
        "id": "lwDY3YVEdA_V"
      },
      "execution_count": 29,
      "outputs": []
    },
    {
      "cell_type": "code",
      "source": [
        "print(logo)\n",
        "from IPython.display import clear_output\n",
        "\n",
        "def find_highest(bidding_record):\n",
        "  highest_bid = 0\n",
        "  for bidded in bidding_record:\n",
        "    big_amount = bidding_record[bidded]\n",
        "    if big_amount > highest_bid:\n",
        "      highest_bid = big_amount\n",
        "      winner = bidded\n",
        "  print(f\"The winner is {winner} with a bid of ${highest_bid}\")\n",
        "\n",
        "bids = {}\n",
        "bidding = False\n",
        "while not bidding:\n",
        "  name = input('What is your name? ')\n",
        "  price = int(input(\"What is your bid? $\"))\n",
        "  bids[name] = price\n",
        "  shound_continue = input(\"are there any other bidding? Type 'Yes' or 'No'.\").lower()\n",
        "  if shound_continue == 'no':\n",
        "    bidding = True\n",
        "    find_highest(bids)\n",
        "  elif shound_continue == 'yes':\n",
        "    clear_output(wait=False)\n"
      ],
      "metadata": {
        "colab": {
          "base_uri": "https://localhost:8080/"
        },
        "id": "Tjr84WdDeYfp",
        "outputId": "74bd31a4-1507-447f-d8c5-0ac95ac93fac"
      },
      "execution_count": 30,
      "outputs": [
        {
          "output_type": "stream",
          "name": "stdout",
          "text": [
            "What is your name? mila\n",
            "What is your bid? $10\n",
            "are there any other bidding? Type 'Yes' or 'No'.no\n",
            "The winner is sam with a bid of $450\n"
          ]
        }
      ]
    },
    {
      "cell_type": "code",
      "source": [],
      "metadata": {
        "id": "KvahF2nwmVQk"
      },
      "execution_count": null,
      "outputs": []
    }
  ]
}