{
  "nbformat": 4,
  "nbformat_minor": 0,
  "metadata": {
    "colab": {
      "provenance": [],
      "authorship_tag": "ABX9TyPONJGV7lVcVsGdXHSF76HS",
      "include_colab_link": true
    },
    "kernelspec": {
      "name": "python3",
      "display_name": "Python 3"
    },
    "language_info": {
      "name": "python"
    }
  },
  "cells": [
    {
      "cell_type": "markdown",
      "metadata": {
        "id": "view-in-github",
        "colab_type": "text"
      },
      "source": [
        "<a href=\"https://colab.research.google.com/github/saurav11sarkar/Python-Pro-Bootcamp/blob/main/Day_1.ipynb\" target=\"_parent\"><img src=\"https://colab.research.google.com/assets/colab-badge.svg\" alt=\"Open In Colab\"/></a>"
      ]
    },
    {
      "cell_type": "code",
      "source": [
        "print('hello ' + input('What is your name?'))"
      ],
      "metadata": {
        "id": "Az2eqXkQeVL_",
        "colab": {
          "base_uri": "https://localhost:8080/"
        },
        "outputId": "98696d0d-5c5b-4d87-d7d2-03da9d16cea7"
      },
      "execution_count": null,
      "outputs": [
        {
          "output_type": "stream",
          "name": "stdout",
          "text": [
            "What is your name?saurav\n",
            "hello saurav\n"
          ]
        }
      ]
    },
    {
      "cell_type": "code",
      "source": [
        "print(len(input('What is your name ')))"
      ],
      "metadata": {
        "colab": {
          "base_uri": "https://localhost:8080/"
        },
        "id": "YIX0UG5HBHV_",
        "outputId": "9e43da69-6158-4a44-c559-888dfc6bfd0c"
      },
      "execution_count": null,
      "outputs": [
        {
          "output_type": "stream",
          "name": "stdout",
          "text": [
            "What is your name saurav\n",
            "6\n"
          ]
        }
      ]
    },
    {
      "cell_type": "code",
      "source": [
        "a = input(\"a:\")\n",
        "b = input(\"b:\")\n",
        "c = a\n",
        "a = b\n",
        "b = c\n",
        "print('a = ',a,'\\nb = ',b)"
      ],
      "metadata": {
        "colab": {
          "base_uri": "https://localhost:8080/"
        },
        "id": "AHY6BE2WBTYc",
        "outputId": "648cc937-47d0-419a-ada5-1b0675659dc7"
      },
      "execution_count": null,
      "outputs": [
        {
          "output_type": "stream",
          "name": "stdout",
          "text": [
            "a:3\n",
            "b:5\n",
            "a =  5 \n",
            "b =  3\n"
          ]
        }
      ]
    },
    {
      "cell_type": "code",
      "source": [
        "# 1 create a greeting for your program\n",
        "print('Wellcome to the band name Generater')\n",
        "city = input('Which city did you grow up in?')\n",
        "pet = input('What is the name of a pet?')\n",
        "print('Your band name could be '+ city +\" \"+pet)"
      ],
      "metadata": {
        "colab": {
          "base_uri": "https://localhost:8080/"
        },
        "id": "WTtUt1G3D8V5",
        "outputId": "1300497c-813e-4913-b3a0-8eb430c49934"
      },
      "execution_count": null,
      "outputs": [
        {
          "output_type": "stream",
          "name": "stdout",
          "text": [
            "Wellcome to the band name Generater\n",
            "Which city did you grow up in?satkhira\n",
            "What is the name of a pet?liyo\n",
            "Your band name could be satkhira liyo\n"
          ]
        }
      ]
    },
    {
      "cell_type": "code",
      "source": [],
      "metadata": {
        "id": "LW_egU_gNuZw"
      },
      "execution_count": null,
      "outputs": []
    }
  ]
}