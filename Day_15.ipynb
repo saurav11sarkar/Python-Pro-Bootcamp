{
  "nbformat": 4,
  "nbformat_minor": 0,
  "metadata": {
    "colab": {
      "provenance": [],
      "authorship_tag": "ABX9TyM/rIQBWb0AqS9Gx77jmpk8",
      "include_colab_link": true
    },
    "kernelspec": {
      "name": "python3",
      "display_name": "Python 3"
    },
    "language_info": {
      "name": "python"
    }
  },
  "cells": [
    {
      "cell_type": "markdown",
      "metadata": {
        "id": "view-in-github",
        "colab_type": "text"
      },
      "source": [
        "<a href=\"https://colab.research.google.com/github/saurav11sarkar/Python-Pro-Bootcamp/blob/main/Day_15.ipynb\" target=\"_parent\"><img src=\"https://colab.research.google.com/assets/colab-badge.svg\" alt=\"Open In Colab\"/></a>"
      ]
    },
    {
      "cell_type": "code",
      "execution_count": 18,
      "metadata": {
        "id": "gOBVj_O4EQD3",
        "colab": {
          "base_uri": "https://localhost:8080/"
        },
        "outputId": "7a670b2c-3178-4b73-afbb-58aa819543d5"
      },
      "outputs": [
        {
          "name": "stdout",
          "output_type": "stream",
          "text": [
            "What would you like? (espresso/latte/cappuccino): latte\n",
            "Plaes insert Coins.\n",
            "how many quarters?: 12\n",
            "how many dimes?: 12\n",
            "how many nickles?: 12\n",
            "how many pannies?: 12\n",
            "Here is $2.42 in change.\n",
            "Here is your latte ☕\n",
            "What would you like? (espresso/latte/cappuccino): report\n",
            "Water : 100ml\n",
            "Milk : 50ml\n",
            "Coffee : 76g\n",
            "Monet : $2.5\n",
            "What would you like? (espresso/latte/cappuccino): off\n"
          ]
        }
      ],
      "source": [
        "MENU = {\n",
        "    \"espresso\": {\n",
        "        \"ingredients\": {\n",
        "            \"water\": 50,\n",
        "            \"coffee\": 18,\n",
        "        },\n",
        "        \"cost\": 1.5,\n",
        "    },\n",
        "    \"latte\": {\n",
        "        \"ingredients\": {\n",
        "            \"water\": 200,\n",
        "            \"milk\": 150,\n",
        "            \"coffee\": 24,\n",
        "        },\n",
        "        \"cost\": 2.5,\n",
        "    },\n",
        "    \"cappuccino\": {\n",
        "        \"ingredients\": {\n",
        "            \"water\": 250,\n",
        "            \"milk\": 100,\n",
        "            \"coffee\": 24,\n",
        "        },\n",
        "        \"cost\": 3.0,\n",
        "    }\n",
        "}\n",
        "\n",
        "profit = 0\n",
        "resources = {\n",
        "    'water':300,\n",
        "    'milk':200,\n",
        "    'coffee':100,\n",
        "}\n",
        "\n",
        "def is_resource_sufficient(order):\n",
        "  for item in order:\n",
        "    if order[item] > resources[item]:\n",
        "      print(f'Sorry there is not enough water {item}.')\n",
        "      return False\n",
        "  return True\n",
        "\n",
        "def process_coins():\n",
        "  print(\"Plaes insert Coins.\")\n",
        "  total = int(input(\"how many quarters?: \"))*0.25\n",
        "  total += int(input(\"how many dimes?: \"))*0.1\n",
        "  total += int(input(\"how many nickles?: \"))*0.05\n",
        "  total += int(input(\"how many pannies?: \"))*0.01\n",
        "  return total\n",
        "\n",
        "def is_transaction_successful(money_received,drink_cost):\n",
        "  if money_received >= drink_cost:\n",
        "    change = round(money_received - drink_cost,2)\n",
        "    print(f'Here is ${change} in change.')\n",
        "    global profit\n",
        "    profit += drink_cost\n",
        "    return True\n",
        "  else:\n",
        "    print('''Sorry that's not enough money. Money refunded.''')\n",
        "    return False\n",
        "\n",
        "def make_coffee(drink_name,order_ingredients):\n",
        "  for item in order_ingredients:\n",
        "    resources[item] -= order_ingredients[item]\n",
        "  print(f\"Here is your {drink_name} ☕\")\n",
        "\n",
        "\n",
        "is_on = True\n",
        "while is_on:\n",
        "  choice = input('What would you like? (espresso/latte/cappuccino): ')\n",
        "  if choice == 'off':\n",
        "    is_on = False\n",
        "  elif choice == 'report':\n",
        "    print(f\"Water : {resources['water']}ml\")\n",
        "    print(f\"Milk : {resources['milk']}ml\")\n",
        "    print(f\"Coffee : {resources['coffee']}g\")\n",
        "    print(f\"Monet : ${profit}\")\n",
        "  else:\n",
        "    drink = MENU[choice]\n",
        "    if is_resource_sufficient(drink['ingredients']):\n",
        "      payment = process_coins()\n",
        "      if is_transaction_successful(payment,drink['cost']):\n",
        "        make_coffee(choice,drink['ingredients'])\n",
        "\n",
        ""
      ]
    }
  ]
}