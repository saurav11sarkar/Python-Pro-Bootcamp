{
  "nbformat": 4,
  "nbformat_minor": 0,
  "metadata": {
    "colab": {
      "provenance": [],
      "authorship_tag": "ABX9TyOJqySWpS1pfY+6ZHQtV1Ae",
      "include_colab_link": true
    },
    "kernelspec": {
      "name": "python3",
      "display_name": "Python 3"
    },
    "language_info": {
      "name": "python"
    }
  },
  "cells": [
    {
      "cell_type": "markdown",
      "metadata": {
        "id": "view-in-github",
        "colab_type": "text"
      },
      "source": [
        "<a href=\"https://colab.research.google.com/github/saurav11sarkar/Python-Pro-Bootcamp/blob/main/Day_3_1.ipynb\" target=\"_parent\"><img src=\"https://colab.research.google.com/assets/colab-badge.svg\" alt=\"Open In Colab\"/></a>"
      ]
    },
    {
      "cell_type": "markdown",
      "source": [
        "www.draw.oi"
      ],
      "metadata": {
        "id": "4IL0B9ASEH18"
      }
    },
    {
      "cell_type": "code",
      "execution_count": null,
      "metadata": {
        "colab": {
          "base_uri": "https://localhost:8080/"
        },
        "id": "WhGgvfJp2V0U",
        "outputId": "bb9dc791-e124-418d-ddda-237c893d83dc"
      },
      "outputs": [
        {
          "output_type": "stream",
          "name": "stdout",
          "text": [
            "Wellcome to the rollercoster!\n",
            "What is your height in cm?90\n",
            "sorry! you have to grow taller before you can ride\n"
          ]
        }
      ],
      "source": [
        "print(\"Wellcome to the rollercoster!\")\n",
        "heigth = int(input(\"What is your height in cm?\"))\n",
        "if heigth > 120:\n",
        "  print('Yos can ride the rollercoster!')\n",
        "else:\n",
        "  print('sorry! you have to grow taller before you can ride')"
      ]
    },
    {
      "cell_type": "code",
      "source": [
        "number = int(input(\"Which number do you want to chack even and odd : \"))\n",
        "if number % 2 == 0:\n",
        "  print(\"This is a even number\")\n",
        "else:\n",
        "  print('This is an odd number')"
      ],
      "metadata": {
        "colab": {
          "base_uri": "https://localhost:8080/"
        },
        "id": "4On7vNSGADF0",
        "outputId": "79ed29ef-5677-45b5-efd7-c4de5c20f9b5"
      },
      "execution_count": null,
      "outputs": [
        {
          "output_type": "stream",
          "name": "stdout",
          "text": [
            "Which number do you want to chack even and odd : 12\n",
            "This is a even number\n"
          ]
        }
      ]
    },
    {
      "cell_type": "code",
      "source": [
        "height = float(input('Enter your height M:'))\n",
        "weight = float(input('Enter your weight kg:'))\n",
        "\n",
        "bmi = round(weight / height**2)\n",
        "if bmi < 18.5:\n",
        "  print(f\"Your bmi is {bmi}, you are underweight\")\n",
        "elif bmi < 25:\n",
        "  print(f\"Your bmi is {bmi}, you are normal weight\")\n",
        "elif bmi < 30:\n",
        "  print(f\"Your bmi is {bmi}, you are overweight\")\n",
        "elif bmi < 35:\n",
        "  print(f\"Your bmi is {bmi}, you are obese\")\n",
        "else:\n",
        "  print(f\"Your bmi is {bmi}, you are clininally obese\")"
      ],
      "metadata": {
        "colab": {
          "base_uri": "https://localhost:8080/"
        },
        "id": "7Gj8IlsaDm0h",
        "outputId": "4e1db6fe-0d0a-4cc5-85f4-64cc8695fd4b"
      },
      "execution_count": null,
      "outputs": [
        {
          "output_type": "stream",
          "name": "stdout",
          "text": [
            "Enter your height M:1.8\n",
            "Enter your weight kg:70\n",
            "Your bmi is 22, you are normal weight\n"
          ]
        }
      ]
    },
    {
      "cell_type": "code",
      "source": [
        "# Leeper\n",
        "year = int(input(\"Which year do you want to cheak?\"))\n",
        "if year % 4 == 0:\n",
        "  if year % 100 == 0:\n",
        "    if year % 400 == 0:\n",
        "      print('Leeper')\n",
        "    else:\n",
        "      print('Not leeper')\n",
        "  else:\n",
        "      print(\"Leeper\")\n",
        "else:\n",
        "  print('Not leeper')"
      ],
      "metadata": {
        "id": "rE3VuAWxI-T-",
        "colab": {
          "base_uri": "https://localhost:8080/"
        },
        "outputId": "d44284cc-c829-4f5c-e631-7d1a6802a47a"
      },
      "execution_count": null,
      "outputs": [
        {
          "output_type": "stream",
          "name": "stdout",
          "text": [
            "Which year do you want to cheak?2000\n",
            "Leeper\n"
          ]
        }
      ]
    },
    {
      "cell_type": "code",
      "source": [
        "print('Wellcome to the rollercoster!')\n",
        "height = float(input(\"What is your height in can? \"))\n",
        "\n",
        "bill = 0\n",
        "if height >= 120:\n",
        "  print('You can ride the rollercoster!')\n",
        "  age = int(input(\"enter your age : \"))\n",
        "  if age < 12:\n",
        "    bill = 5\n",
        "    print(\"Child tickets are $5\")\n",
        "  elif age <= 18:\n",
        "    bill = 7\n",
        "    print(\"Youth tickets are $7\")\n",
        "  else:\n",
        "    bill = 12\n",
        "    print(\"Adult tickets are $12\")\n",
        "  want_phote = input(\"Do you want a photo taken? Y or N : \").upper()\n",
        "  if want_phote == 'Y':\n",
        "    bill += 3\n",
        "  print(f\"Your final bill is {bill}\")\n",
        "else:\n",
        "  print(\"Serry, you have to grow taller before you can ride\")"
      ],
      "metadata": {
        "id": "0zCRPc6DSPnc",
        "colab": {
          "base_uri": "https://localhost:8080/"
        },
        "outputId": "5e5a81c3-b5f8-4654-b6d0-ba76bc7bd1e4"
      },
      "execution_count": null,
      "outputs": [
        {
          "output_type": "stream",
          "name": "stdout",
          "text": [
            "Wellcome to the rollercoster!\n",
            "What is your height in can? 125\n",
            "You can ride the rollercoster!\n",
            "enter your age : 20\n",
            "Adult tickets are $12\n",
            "Do you want a photo taken? Y or N : y\n",
            "Your final bill is 15\n"
          ]
        }
      ]
    },
    {
      "cell_type": "code",
      "source": [
        "# Pizza Deliveries\n",
        "print(\"Wellcome to python Pizza Deliveries!\")\n",
        "size = input('What size pizza do you want!(S , M , L) : ').upper()\n",
        "add_pepperoni = input(\"Do you have pepperoni?(Y or N) : \").upper()\n",
        "extra_cheese = input(\"Do you have extra cheese?(Y or N) : \").upper()\n",
        "\n",
        "bill = 0\n",
        "if size == 'S':\n",
        "  print('Small Pizza $15')\n",
        "  bill = 15\n",
        "  if add_pepperoni == 'Y':\n",
        "    print(\"Pepperoni for Small Pizza : +$2\")\n",
        "    bill += 2\n",
        "  if extra_cheese == \"Y\":\n",
        "    print(\"Pepperoni for Extra Cheese : +$1\")\n",
        "    bill += 1\n",
        "  print(f'Your Final bill ${bill}')\n",
        "\n",
        "elif size == 'M':\n",
        "  print('Medium Pizza $20')\n",
        "  bill = 20\n",
        "  if add_pepperoni == 'Y':\n",
        "    print(\"Pepperoni for Medium Pizza : +$3\")\n",
        "    bill += 3\n",
        "  if extra_cheese == \"Y\":\n",
        "    print(\"Pepperoni for Extra Cheese : +$1\")\n",
        "    bill += 1\n",
        "  print(f'Your Final bill ${bill}')\n",
        "\n",
        "elif size == 'L':\n",
        "  print('Large Pizza $25')\n",
        "  bill = 25\n",
        "  if add_pepperoni == 'Y':\n",
        "    print(\"Pepperoni for Large Pizza : +$3\")\n",
        "    bill += 3\n",
        "  if extra_cheese == \"Y\":\n",
        "    print(\"Pepperoni for Extra Cheese : +$1\")\n",
        "    bill += 1\n",
        "  print(f'Your Final bill ${bill}')\n",
        "\n",
        "else:\n",
        "  print(\"Okay No Pizza order Thankyou!\")"
      ],
      "metadata": {
        "colab": {
          "base_uri": "https://localhost:8080/"
        },
        "id": "yyKqgut-s6Zb",
        "outputId": "b0280218-aabc-4878-93c0-49751fc3e019"
      },
      "execution_count": null,
      "outputs": [
        {
          "output_type": "stream",
          "name": "stdout",
          "text": [
            "Wellcome to python Pizza Deliveries!\n",
            "What size pizza do you want!(S , M , L) : l\n",
            "Do you have pepperoni?(Y or N) : y\n",
            "Do you have extra cheese?(Y or N) : n\n",
            "Large Pizza $25\n",
            "Pepperoni for Large Pizza : +$3\n",
            "Your Final bill $28\n",
            "-0.0008230209350585938\n"
          ]
        }
      ]
    },
    {
      "cell_type": "code",
      "source": [
        "# Pizza Deliveries\n",
        "print(\"Wellcome to python Pizza Deliveries!\")\n",
        "size = input('What size pizza do you want!(S , M , L) : ').upper()\n",
        "add_pepperoni = input(\"Do you have pepperoni?(Y or N) : \").upper()\n",
        "extra_cheese = input(\"Do you have extra cheese?(Y or N) : \").upper()\n",
        "\n",
        "bill = 0\n",
        "if size == 'S':\n",
        "  print('Small Pizza $15')\n",
        "  bill += 15\n",
        "elif size == 'M':\n",
        "  print('Meduim Pizza $20')\n",
        "  bill += 20\n",
        "elif size == 'L':\n",
        "  print('Large Pizza $25')\n",
        "  bill += 25\n",
        "\n",
        "if add_pepperoni == 'Y':\n",
        "  if size == 'S':\n",
        "    print(\"Pepperoni for Small Pizza : +$2\")\n",
        "    bill += 2\n",
        "  else:\n",
        "    print(\"Pepperoni for Medium & Large Pizza : +$3\")\n",
        "    bill += 3\n",
        "\n",
        "if extra_cheese == 'Y':\n",
        "    print(\"Pepperoni for Extra Cheese : +$1\")\n",
        "    bill += 1\n",
        "\n",
        "print(f'Your final bill : ${bill}')"
      ],
      "metadata": {
        "colab": {
          "base_uri": "https://localhost:8080/"
        },
        "id": "r3MmxBtXxuDu",
        "outputId": "c1b07606-d7bf-47f2-d88b-256df634e963"
      },
      "execution_count": null,
      "outputs": [
        {
          "output_type": "stream",
          "name": "stdout",
          "text": [
            "Wellcome to python Pizza Deliveries!\n",
            "What size pizza do you want!(S , M , L) : l\n",
            "Do you have pepperoni?(Y or N) : y\n",
            "Do you have extra cheese?(Y or N) : n\n",
            "Large Pizza $25\n",
            "Pepperoni for Medium & Large Pizza : +$3\n",
            "Your final bill : $28\n",
            "-0.0024247169494628906\n"
          ]
        }
      ]
    },
    {
      "cell_type": "code",
      "source": [
        "print('Wellcome to the rollercoster!')\n",
        "height = float(input(\"What is your height in can? \"))\n",
        "\n",
        "bill = 0\n",
        "if height >= 120:\n",
        "  print('You can ride the rollercoster!')\n",
        "  age = int(input(\"enter your age : \"))\n",
        "  if age < 12:\n",
        "    bill = 5\n",
        "    print(\"Child tickets are $5\")\n",
        "  elif age <= 18:\n",
        "    bill = 7\n",
        "    print(\"Youth tickets are $7\")\n",
        "  elif age >= 45 and age <= 55:\n",
        "    print(\"Everything is going to be ok. Have a free ride on us!\")\n",
        "  else:\n",
        "    bill = 12\n",
        "    print(\"Adult tickets are $12\")\n",
        "  want_phote = input(\"Do you want a photo taken? Y or N : \").upper()\n",
        "  if want_phote == 'Y':\n",
        "    bill += 3\n",
        "  print(f\"Your final bill is {bill}\")\n",
        "else:\n",
        "  print(\"Serry, you have to grow taller before you can ride\")"
      ],
      "metadata": {
        "colab": {
          "base_uri": "https://localhost:8080/"
        },
        "id": "4eggS2hQ0FlT",
        "outputId": "6f5fcd02-b5d4-416e-a832-7926def1d83e"
      },
      "execution_count": null,
      "outputs": [
        {
          "output_type": "stream",
          "name": "stdout",
          "text": [
            "Wellcome to the rollercoster!\n",
            "What is your height in can? 124\n",
            "You can ride the rollercoster!\n",
            "enter your age : 47\n",
            "Everything is going to be ok. Have a free ride on us!\n",
            "Do you want a photo taken? Y or N : y\n",
            "Your final bill is 3\n"
          ]
        }
      ]
    },
    {
      "cell_type": "code",
      "source": [
        "# Love Calcuter\n",
        "print(\"Wellcome to Love Calcuter\")\n",
        "name1 = input(\"What is your name?\\n\").lower()\n",
        "name2 = input(\"What is their name?\\n\").lower()\n",
        "\n",
        "combined_string = name1 + name2\n",
        "\n",
        "t=combined_string.count('t')\n",
        "r=combined_string.count('r')\n",
        "u=combined_string.count('u')\n",
        "e=combined_string.count('e')\n",
        "true = t + r + u + e\n",
        "l=combined_string.count('l')\n",
        "o=combined_string.count('o')\n",
        "v=combined_string.count('v')\n",
        "e=combined_string.count('e')\n",
        "love = l + o + v + e\n",
        "\n",
        "love_score = int(str(true) + str(love))\n",
        "\n",
        "if (love_score > 10) or (love_score > 90):\n",
        "  print(f\"Your score is {love_score}, you go together like coke and mentor.\")\n",
        "elif (love_score > 40) and (love_score <= 50):\n",
        "  print(f\"Your score is {love_score}, you are alrady togater.\")\n",
        "else:\n",
        "  print(f\"Your score is {love_score}\")\n",
        "\n"
      ],
      "metadata": {
        "colab": {
          "base_uri": "https://localhost:8080/"
        },
        "id": "d2yslKEd5UqH",
        "outputId": "48d53757-c389-4281-fca5-ca6be65214fc"
      },
      "execution_count": null,
      "outputs": [
        {
          "output_type": "stream",
          "name": "stdout",
          "text": [
            "Wellcome to Love Calcuter\n",
            "What is your name?\n",
            "saurav\n",
            "What is their name?\n",
            "arkar\n",
            "Your score is 41, you go together like coke and mentor.\n"
          ]
        }
      ]
    },
    {
      "cell_type": "markdown",
      "source": [
        "https://ascii.co.uk/art/treasure"
      ],
      "metadata": {
        "id": "hncnu94wECwZ"
      }
    },
    {
      "cell_type": "code",
      "source": [
        "print('''\n",
        "*******************************************************************************\n",
        "          |                   |                  |                     |\n",
        " _________|________________.=\"\"_;=.______________|_____________________|_______\n",
        "|                   |  ,-\"_,=\"\"     `\"=.|                  |\n",
        "|___________________|__\"=._o`\"-._        `\"=.______________|___________________\n",
        "          |                `\"=._o`\"=._      _`\"=._                     |\n",
        " _________|_____________________:=._o \"=._.\"_.-=\"'\"=.__________________|_______\n",
        "|                   |    __.--\" , ; `\"=._o.\" ,-\"\"\"-._ \".   |\n",
        "|___________________|_._\"  ,. .` ` `` ,  `\"-._\"-._   \". '__|___________________\n",
        "          |           |o`\"=._` , \"` `; .\". ,  \"-._\"-._; ;              |\n",
        " _________|___________| ;`-.o`\"=._; .\" ` '`.\"\\` . \"-._ /_______________|_______\n",
        "|                   | |o;    `\"-.o`\"=._``  '` \" ,__.--o;   |\n",
        "|___________________|_| ;     (#) `-.o `\"=.`_.--\"_o.-; ;___|___________________\n",
        "____/______/______/___|o;._    \"      `\".o|o_.--\"    ;o;____/______/______/____\n",
        "/______/______/______/_\"=._o--._        ; | ;        ; ;/______/______/______/_\n",
        "____/______/______/______/__\"=._o--._   ;o|o;     _._;o;____/______/______/____\n",
        "/______/______/______/______/____\"=._o._; | ;_.--\"o.--\"_/______/______/______/_\n",
        "____/______/______/______/______/_____\"=.o|o_.--\"\"___/______/______/______/____\n",
        "/______/______/______/______/______/______/______/______/______/______/[SAURAV]\n",
        "*******************************************************************************\n",
        "''')\n",
        "\n",
        "print('Wellcome to Treasure Island')\n",
        "print('Your mission is to find the treasure.')\n",
        "choice1 = input(\"You're at a crossroad, where do you want to go? Type 'left' or 'right'. : \").lower()\n",
        "if choice1 == 'left':\n",
        "  choice2 = input('You\\'ve come to lake. There is an island in the middle of the lake.Type \"wait\" to wait for a boat.Type \"swim\" to swim across.').lower()\n",
        "  if choice2 == 'wait':\n",
        "    choice3 = input('You arrive at the island unharmed. There is a house with 3 door. One red,one yellow and one blue.Which colour do you choose?').lower()\n",
        "    if choice3 == 'red':\n",
        "      print(\"It's a room full of fire. Game Over\")\n",
        "    elif choice3 == 'yellow':\n",
        "      print(\"You found treasure! You win!\")\n",
        "    elif choice3 == 'blue':\n",
        "      print('You enter a room of beasts.Game Over')\n",
        "    else:\n",
        "      print(\"You chose a door that doesn't exit.Game Over\")\n",
        "  else:\n",
        "    print('You got attacked by an angle trout.Game Over.')\n",
        "\n",
        "else:\n",
        "  print('You fall into a hole.Game over')"
      ],
      "metadata": {
        "colab": {
          "base_uri": "https://localhost:8080/"
        },
        "id": "XcD95Wro-NR7",
        "outputId": "7d39fe6f-0a93-4852-c721-df3ce217ca07"
      },
      "execution_count": null,
      "outputs": [
        {
          "output_type": "stream",
          "name": "stdout",
          "text": [
            "\n",
            "*******************************************************************************\n",
            "          |                   |                  |                     |\n",
            " _________|________________.=\"\"_;=.______________|_____________________|_______\n",
            "|                   |  ,-\"_,=\"\"     `\"=.|                  |\n",
            "|___________________|__\"=._o`\"-._        `\"=.______________|___________________\n",
            "          |                `\"=._o`\"=._      _`\"=._                     |\n",
            " _________|_____________________:=._o \"=._.\"_.-=\"'\"=.__________________|_______\n",
            "|                   |    __.--\" , ; `\"=._o.\" ,-\"\"\"-._ \".   |\n",
            "|___________________|_._\"  ,. .` ` `` ,  `\"-._\"-._   \". '__|___________________\n",
            "          |           |o`\"=._` , \"` `; .\". ,  \"-._\"-._; ;              |\n",
            " _________|___________| ;`-.o`\"=._; .\" ` '`.\"\\` . \"-._ /_______________|_______\n",
            "|                   | |o;    `\"-.o`\"=._``  '` \" ,__.--o;   |\n",
            "|___________________|_| ;     (#) `-.o `\"=.`_.--\"_o.-; ;___|___________________\n",
            "____/______/______/___|o;._    \"      `\".o|o_.--\"    ;o;____/______/______/____\n",
            "/______/______/______/_\"=._o--._        ; | ;        ; ;/______/______/______/_\n",
            "____/______/______/______/__\"=._o--._   ;o|o;     _._;o;____/______/______/____\n",
            "/______/______/______/______/____\"=._o._; | ;_.--\"o.--\"_/______/______/______/_\n",
            "____/______/______/______/______/_____\"=.o|o_.--\"\"___/______/______/______/____\n",
            "/______/______/______/______/______/______/______/______/______/______/[SAURAV]\n",
            "*******************************************************************************\n",
            "\n",
            "Wellcome to Treasure Island\n",
            "Your mission is to find the treasure.\n",
            "You're at a crossroad, where do you want to go? Type 'left' or 'right'. : left\n",
            "You've come to lake. There is an island in the middle of the lake.Type \"wait\" to wait for a boat.Type \"swim\" to swim across.wait\n",
            "You arrive at the island unharmed. There is a house with 3 door. One red,one yellow and one blue.Which colour do you choose?yellow\n",
            "You found treasure! You win!\n"
          ]
        }
      ]
    },
    {
      "cell_type": "code",
      "source": [],
      "metadata": {
        "id": "rzYKqFHpDWbB"
      },
      "execution_count": null,
      "outputs": []
    }
  ]
}