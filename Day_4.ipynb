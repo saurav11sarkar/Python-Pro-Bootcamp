{
  "nbformat": 4,
  "nbformat_minor": 0,
  "metadata": {
    "colab": {
      "provenance": [],
      "authorship_tag": "ABX9TyNIyiNJsLxU139zMoplmZhI",
      "include_colab_link": true
    },
    "kernelspec": {
      "name": "python3",
      "display_name": "Python 3"
    },
    "language_info": {
      "name": "python"
    }
  },
  "cells": [
    {
      "cell_type": "markdown",
      "metadata": {
        "id": "view-in-github",
        "colab_type": "text"
      },
      "source": [
        "<a href=\"https://colab.research.google.com/github/saurav11sarkar/Python-Pro-Bootcamp/blob/main/Day_4.ipynb\" target=\"_parent\"><img src=\"https://colab.research.google.com/assets/colab-badge.svg\" alt=\"Open In Colab\"/></a>"
      ]
    },
    {
      "cell_type": "markdown",
      "source": [
        "https://www.askpython.com/python-modules/python-random-module-generate-random-numbers-sequences"
      ],
      "metadata": {
        "id": "Po5Pj2jhnt9H"
      }
    },
    {
      "cell_type": "code",
      "source": [
        "import random\n",
        "print(random.randint(1,12))"
      ],
      "metadata": {
        "colab": {
          "base_uri": "https://localhost:8080/"
        },
        "id": "a1x5lK6NrOzT",
        "outputId": "fdb07324-49b2-4c36-ee59-40854a66f5c5"
      },
      "execution_count": null,
      "outputs": [
        {
          "output_type": "stream",
          "name": "stdout",
          "text": [
            "5\n"
          ]
        }
      ]
    },
    {
      "cell_type": "code",
      "source": [
        "my_mudul = 3.1314"
      ],
      "metadata": {
        "id": "GaKOfAResKMk"
      },
      "execution_count": null,
      "outputs": []
    },
    {
      "cell_type": "code",
      "source": [
        "print(random.randint(0,5))"
      ],
      "metadata": {
        "colab": {
          "base_uri": "https://localhost:8080/"
        },
        "id": "cYw4WFpks7JG",
        "outputId": "53447310-751a-4aa3-ce7a-0c77ff8c72b7"
      },
      "execution_count": null,
      "outputs": [
        {
          "output_type": "stream",
          "name": "stdout",
          "text": [
            "1\n"
          ]
        }
      ]
    },
    {
      "cell_type": "code",
      "source": [
        "print(random.random()*5)"
      ],
      "metadata": {
        "colab": {
          "base_uri": "https://localhost:8080/"
        },
        "id": "Cak8aMtstA5A",
        "outputId": "11bd8846-311d-4743-f2ea-c741892d01e9"
      },
      "execution_count": null,
      "outputs": [
        {
          "output_type": "stream",
          "name": "stdout",
          "text": [
            "0.23248607845091418\n"
          ]
        }
      ]
    },
    {
      "cell_type": "code",
      "source": [
        "import random\n",
        "random_side = random.randint(0,1)\n",
        "\n",
        "if random_side == 1:\n",
        "  print('Heads')\n",
        "else:\n",
        "  print('Tails')"
      ],
      "metadata": {
        "colab": {
          "base_uri": "https://localhost:8080/"
        },
        "id": "1dCUQT-4yVrI",
        "outputId": "2f9c8bce-18fa-4385-de48-cb39e9d26820"
      },
      "execution_count": null,
      "outputs": [
        {
          "output_type": "stream",
          "name": "stdout",
          "text": [
            "Heads\n"
          ]
        }
      ]
    },
    {
      "cell_type": "code",
      "source": [
        "l = [1,2,3,4]\n",
        "l.extend([4,5,6,7])\n",
        "print(l)"
      ],
      "metadata": {
        "id": "ypt7TWxY1o45",
        "colab": {
          "base_uri": "https://localhost:8080/"
        },
        "outputId": "22ca8976-d718-4fd0-f644-949bd64dbe09"
      },
      "execution_count": 1,
      "outputs": [
        {
          "output_type": "stream",
          "name": "stdout",
          "text": [
            "[1, 2, 3, 4, 4, 5, 6, 7]\n"
          ]
        }
      ]
    },
    {
      "cell_type": "code",
      "source": [
        "import random\n",
        "names_string = input(\"Give me everybody's names, seperated by a comma.\")\n",
        "names = names_string.split(\",\")\n",
        "len_name = len(names)\n",
        "chouse = random.randint(0,len_name-1)\n",
        "person = names[chouse]\n",
        "print(person + \"is going to busy the meal today.\")"
      ],
      "metadata": {
        "colab": {
          "base_uri": "https://localhost:8080/"
        },
        "id": "om5HlfxfA6sp",
        "outputId": "b0f2b9ae-c6dc-4e89-ed58-20a295979560"
      },
      "execution_count": 6,
      "outputs": [
        {
          "output_type": "stream",
          "name": "stdout",
          "text": [
            "Give me everybody's names, seperated by a comma.Angela,Ben,Janny\n",
            "Benis going to busy the meal today.\n"
          ]
        }
      ]
    },
    {
      "cell_type": "code",
      "source": [
        "import random\n",
        "names_string = input(\"Give me everybody's names, seperated by a comma.\")\n",
        "names = names_string.split(\",\")\n",
        "person = random.choice(names)\n",
        "print(person,\"is going to busy the meal today.\")"
      ],
      "metadata": {
        "colab": {
          "base_uri": "https://localhost:8080/"
        },
        "id": "Np6hvyv-CicG",
        "outputId": "015f89aa-ea63-4323-d816-cfbe2ccb64bc"
      },
      "execution_count": 8,
      "outputs": [
        {
          "output_type": "stream",
          "name": "stdout",
          "text": [
            "Give me everybody's names, seperated by a comma..Angela,Ben,Janny\n",
            ".Angela is going to busy the meal today.\n"
          ]
        }
      ]
    },
    {
      "cell_type": "code",
      "source": [
        "fruits = ['Strawberries','Spinach','Kale','Nectarines','Apples','Grapes']\n",
        "vegetabls = ['Peaches','Cherries','Pears','Tomatoes','Celery','Potatoes']\n",
        "dirty = [fruits,vegetabls]\n",
        "print(dirty)"
      ],
      "metadata": {
        "colab": {
          "base_uri": "https://localhost:8080/"
        },
        "id": "l3LZ8SBqMlFj",
        "outputId": "da7b5669-9bec-4baa-b643-15c5898ff128"
      },
      "execution_count": 18,
      "outputs": [
        {
          "output_type": "stream",
          "name": "stdout",
          "text": [
            "[['Strawberries', 'Spinach', 'Kale', 'Nectarines', 'Apples', 'Grapes'], ['Peaches', 'Cherries', 'Pears', 'Tomatoes', 'Celery', 'Potatoes']]\n"
          ]
        }
      ]
    },
    {
      "cell_type": "code",
      "source": [
        "row1 = ['😊','😍','😒']\n",
        "row2 = ['😘','😉','😁']\n",
        "row3 = ['😎','😋','😣']\n",
        "map = [row1,row2,row3]\n",
        "print(f\"{row1}\\n{row2}\\n{row3}\")\n",
        "\n",
        "position = input('Where do you want to put the treasure?')\n",
        "horizonal = int(position[0])\n",
        "vertical = int(position[1])\n",
        "\n",
        "map[vertical-1][horizonal - 1] = '❌'\n",
        "\n",
        "print(f\"{row1}\\n{row2}\\n{row3}\")"
      ],
      "metadata": {
        "colab": {
          "base_uri": "https://localhost:8080/"
        },
        "id": "ejf3bLqqO717",
        "outputId": "e2a6ccf1-638a-49b5-bec8-9c2a14b20669"
      },
      "execution_count": 24,
      "outputs": [
        {
          "output_type": "stream",
          "name": "stdout",
          "text": [
            "['😊', '😍', '😒']\n",
            "['😘', '😉', '😁']\n",
            "['😎', '😋', '😣']\n",
            "Where do you want to put the treasure?23\n",
            "['😊', '😍', '😒']\n",
            "['😘', '😉', '😁']\n",
            "['😎', '❌', '😣']\n"
          ]
        }
      ]
    },
    {
      "cell_type": "code",
      "source": [
        "rock = '''\n",
        "    _______\n",
        "---'   ____)\n",
        "      (_____)\n",
        "      (_____)\n",
        "      (____)\n",
        "---.__(___)\n",
        "'''\n",
        "\n",
        "paper = '''\n",
        "    _______\n",
        "---'   ____)____\n",
        "          ______)\n",
        "          _______)\n",
        "         _______)\n",
        "---.__________)\n",
        "'''\n",
        "\n",
        "scissors = '''\n",
        "    _______\n",
        "---'   ____)____\n",
        "          ______)\n",
        "       __________)\n",
        "      (____)\n",
        "---.__(___)\n",
        "'''\n",
        "\n",
        "games_images = [rock,paper,scissors]\n",
        "\n",
        "user_choice = int(input(\"What do you choose? Type 0 for Rock, 1 for Paper or 2 for Scissors.\\n\"))\n",
        "\n",
        "\n",
        "if user_choice >= 3 or user_choice < 0:\n",
        "  print('You typed on invalid number,you lose')\n",
        "else:\n",
        "  print(games_images[user_choice])\n",
        "\n",
        "  computer = random.randint(0,2)\n",
        "  print(f\"Computer chose:\")\n",
        "  print(games_images[computer])\n",
        "\n",
        "  if user_choice == 0 and computer == 2:\n",
        "    print('You win!')\n",
        "  elif computer == 0 and user_choice == 2:\n",
        "    print('You lose')\n",
        "  elif computer > user_choice:\n",
        "    print('You lose')\n",
        "  elif user_choice > computer:\n",
        "    print('You Win!')\n",
        "  elif computer == user_choice:\n",
        "    print('It\\'s a draw')\n"
      ],
      "metadata": {
        "colab": {
          "base_uri": "https://localhost:8080/"
        },
        "id": "R3xU7yBqPgn8",
        "outputId": "02588bf8-19aa-4646-c5c9-643eefc8cb9b"
      },
      "execution_count": 58,
      "outputs": [
        {
          "output_type": "stream",
          "name": "stdout",
          "text": [
            "What do you choose? Type 0 for Rock, 1 for Paper or 2 for Scissors.\n",
            "1\n",
            "\n",
            "    _______\n",
            "---'   ____)____\n",
            "          ______)\n",
            "          _______)\n",
            "         _______)\n",
            "---.__________)\n",
            "\n",
            "Computer chose:\n",
            "\n",
            "    _______\n",
            "---'   ____)\n",
            "      (_____)\n",
            "      (_____)\n",
            "      (____)\n",
            "---.__(___)\n",
            "\n",
            "You Win!\n"
          ]
        }
      ]
    },
    {
      "cell_type": "code",
      "source": [],
      "metadata": {
        "id": "NjnCn2e3Y5gY"
      },
      "execution_count": 50,
      "outputs": []
    },
    {
      "cell_type": "code",
      "source": [],
      "metadata": {
        "id": "C30EUzI-skSZ"
      },
      "execution_count": null,
      "outputs": []
    }
  ]
}