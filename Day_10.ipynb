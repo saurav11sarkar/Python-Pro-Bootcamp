{
  "nbformat": 4,
  "nbformat_minor": 0,
  "metadata": {
    "colab": {
      "provenance": [],
      "authorship_tag": "ABX9TyP/OLUQzqUPMmFHbAKUCgDm",
      "include_colab_link": true
    },
    "kernelspec": {
      "name": "python3",
      "display_name": "Python 3"
    },
    "language_info": {
      "name": "python"
    }
  },
  "cells": [
    {
      "cell_type": "markdown",
      "metadata": {
        "id": "view-in-github",
        "colab_type": "text"
      },
      "source": [
        "<a href=\"https://colab.research.google.com/github/saurav11sarkar/Python-Pro-Bootcamp/blob/main/Day_10.ipynb\" target=\"_parent\"><img src=\"https://colab.research.google.com/assets/colab-badge.svg\" alt=\"Open In Colab\"/></a>"
      ]
    },
    {
      "cell_type": "code",
      "execution_count": 2,
      "metadata": {
        "colab": {
          "base_uri": "https://localhost:8080/"
        },
        "id": "oQmkeI3LGrxe",
        "outputId": "6ba0de5e-77ae-41a3-dedb-8a2f4eda6b49"
      },
      "outputs": [
        {
          "output_type": "stream",
          "name": "stdout",
          "text": [
            "Angela Angela\n"
          ]
        }
      ],
      "source": [
        "def format_name(f_name,l_name):\n",
        "  print(f_name.title(),end=\" \")\n",
        "  print(l_name.title())\n",
        "\n",
        "format_name(\"angela\",\"ANGELA\")"
      ]
    },
    {
      "cell_type": "code",
      "source": [
        "def format_name(f_name,l_name):\n",
        "  if f_name == \"\" or l_name == \"\":\n",
        "    return \"You did't provide valid input.\"\n",
        "  format_f_name = f_name.title()\n",
        "  format_l_name = l_name.title()\n",
        "  return f\"Result: {format_f_name} {format_l_name}\"\n",
        "\n",
        "print(format_name(input('What is your first name? '),input('What is your last name? ')))"
      ],
      "metadata": {
        "colab": {
          "base_uri": "https://localhost:8080/"
        },
        "id": "-wgVKa54KIqm",
        "outputId": "c57c5195-f4b7-4d6f-9a9e-d2ff004a51c6"
      },
      "execution_count": 8,
      "outputs": [
        {
          "output_type": "stream",
          "name": "stdout",
          "text": [
            "What is your first name? \n",
            "What is your last name? \n",
            "You did't provide valid input.\n"
          ]
        }
      ]
    },
    {
      "cell_type": "code",
      "source": [
        "def is_leep(year):\n",
        "  if year % 4 == 0:\n",
        "    if year % 100 == 0:\n",
        "      if year % 400 == 0:\n",
        "        return True\n",
        "      else:\n",
        "        return False\n",
        "    else:\n",
        "      return True\n",
        "  else:\n",
        "    return False\n",
        "\n",
        "\n",
        "def days_in_month(year,month):\n",
        "  if month > 12 or month < 1:\n",
        "    return \"Invalid month\"\n",
        "  month_days = [31, 28, 31, 30, 31, 30, 31, 31, 30, 31, 30, 31]\n",
        "  if is_leep(year) and month == 2:\n",
        "    return 29\n",
        "  return month_days[month-1]\n",
        "\n",
        "year = int(input(\"Enter a year: \"))\n",
        "month = int(input(\"Enter a month: \"))\n",
        "days = days_in_month(year,month)\n",
        "print(days)"
      ],
      "metadata": {
        "colab": {
          "base_uri": "https://localhost:8080/"
        },
        "id": "l0S3nm5WTHVh",
        "outputId": "23949d33-b98a-4bd3-88dd-0fa7a39d8028"
      },
      "execution_count": 22,
      "outputs": [
        {
          "output_type": "stream",
          "name": "stdout",
          "text": [
            "Enter a year: 2020\n",
            "Enter a month: 2\n",
            "29\n"
          ]
        }
      ]
    },
    {
      "cell_type": "code",
      "source": [
        "# calculator\n",
        "logo = \"\"\"\n",
        " _____________________\n",
        "|  _________________  |\n",
        "| | Pythonista   0. | |  .----------------.  .----------------.  .----------------.  .----------------.\n",
        "| |_________________| | | .--------------. || .--------------. || .--------------. || .--------------. |\n",
        "|  ___ ___ ___   ___  | | |     ______   | || |      __      | || |   _____      | || |     ______   | |\n",
        "| | 7 | 8 | 9 | | + | | | |   .' ___  |  | || |     /  \\     | || |  |_   _|     | || |   .' ___  |  | |\n",
        "| |___|___|___| |___| | | |  / .'   \\_|  | || |    / /\\ \\    | || |    | |       | || |  / .'   \\_|  | |\n",
        "| | 4 | 5 | 6 | | - | | | |  | |         | || |   / ____ \\   | || |    | |   _   | || |  | |         | |\n",
        "| |___|___|___| |___| | | |  \\ `.___.'\\  | || | _/ /    \\ \\_ | || |   _| |__/ |  | || |  \\ `.___.'\\  | |\n",
        "| | 1 | 2 | 3 | | x | | | |   `._____.'  | || ||____|  |____|| || |  |________|  | || |   `._____.'  | |\n",
        "| |___|___|___| |___| | | |              | || |              | || |              | || |              | |\n",
        "| | . | 0 | = | | / | | | '--------------' || '--------------' || '--------------' || '--------------' |\n",
        "| |___|___|___| |___| |  '----------------'  '----------------'  '----------------'  '----------------'\n",
        "|_____________________|\n",
        "\"\"\"\n"
      ],
      "metadata": {
        "id": "PxfXZbcto69o"
      },
      "execution_count": 30,
      "outputs": []
    },
    {
      "cell_type": "code",
      "source": [
        "# calculator\n",
        "# Add\n",
        "def add(n1,n2):\n",
        "  return n1 + n2\n",
        "# Subtract\n",
        "def subtract(n1,n2):\n",
        "  return n1 - n2\n",
        "# Multiply\n",
        "def multiply(n1,n2):\n",
        "  return n1 * n2\n",
        "# Divide\n",
        "def divide(n1,n2):\n",
        "  return n1 / n2\n",
        "\n",
        "operations = {\n",
        "    \"+\":add,\n",
        "    \"-\":subtract,\n",
        "    \"*\":multiply,\n",
        "    \"/\":divide\n",
        "}\n",
        "def calculator():\n",
        "  print(logo)\n",
        "  num1 = float(input(\"What's the first number? \"))\n",
        "\n",
        "  for symblo in operations:\n",
        "    print(symblo)\n",
        "\n",
        "  should_continue = True\n",
        "  while should_continue:\n",
        "    symblo = input(\"Pick an opration: \")\n",
        "    num2 = float(input(\"What's the next number?: \"))\n",
        "    calculation_function = operations[symblo]\n",
        "    answer = calculation_function(num1,num2)\n",
        "\n",
        "    print(f\"{num1} {symblo} {num2} = {answer}\")\n",
        "\n",
        "    user_input = input(f\"Type 'Y' to continue calculating with {answer},or type 'n' to start a new calculation : \").lower()\n",
        "\n",
        "    if user_input == 'y':\n",
        "      num1 = answer\n",
        "    elif user_input == 'n':\n",
        "      should_continue = False\n",
        "      calculator()\n",
        "    else:\n",
        "      should_continue = False\n",
        "\n",
        "\n",
        "calculator()"
      ],
      "metadata": {
        "colab": {
          "base_uri": "https://localhost:8080/"
        },
        "id": "pV_tqkrJu85A",
        "outputId": "433644a4-86d2-45ae-be57-92e6c6914d2d"
      },
      "execution_count": 33,
      "outputs": [
        {
          "name": "stdout",
          "output_type": "stream",
          "text": [
            "\n",
            " _____________________\n",
            "|  _________________  |\n",
            "| | Pythonista   0. | |  .----------------.  .----------------.  .----------------.  .----------------. \n",
            "| |_________________| | | .--------------. || .--------------. || .--------------. || .--------------. |\n",
            "|  ___ ___ ___   ___  | | |     ______   | || |      __      | || |   _____      | || |     ______   | |\n",
            "| | 7 | 8 | 9 | | + | | | |   .' ___  |  | || |     /  \\     | || |  |_   _|     | || |   .' ___  |  | |\n",
            "| |___|___|___| |___| | | |  / .'   \\_|  | || |    / /\\ \\    | || |    | |       | || |  / .'   \\_|  | |\n",
            "| | 4 | 5 | 6 | | - | | | |  | |         | || |   / ____ \\   | || |    | |   _   | || |  | |         | |\n",
            "| |___|___|___| |___| | | |  \\ `.___.'\\  | || | _/ /    \\ \\_ | || |   _| |__/ |  | || |  \\ `.___.'\\  | |\n",
            "| | 1 | 2 | 3 | | x | | | |   `._____.'  | || ||____|  |____|| || |  |________|  | || |   `._____.'  | |\n",
            "| |___|___|___| |___| | | |              | || |              | || |              | || |              | |\n",
            "| | . | 0 | = | | / | | | '--------------' || '--------------' || '--------------' || '--------------' |\n",
            "| |___|___|___| |___| |  '----------------'  '----------------'  '----------------'  '----------------' \n",
            "|_____________________|\n",
            "\n",
            "What's the first number? 10\n",
            "+\n",
            "-\n",
            "*\n",
            "/\n",
            "Pick an opration: +\n",
            "What's the next number?: 20\n",
            "10 + 20 = 30\n",
            "Type 'Y' to continue calculating with 30,or type 'n' to start a new calculation : x\n"
          ]
        }
      ]
    },
    {
      "cell_type": "code",
      "source": [],
      "metadata": {
        "id": "7moYpuzG2cjr"
      },
      "execution_count": null,
      "outputs": []
    }
  ]
}