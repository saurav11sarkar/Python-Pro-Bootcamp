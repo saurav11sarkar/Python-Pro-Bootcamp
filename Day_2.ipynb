{
  "nbformat": 4,
  "nbformat_minor": 0,
  "metadata": {
    "colab": {
      "provenance": [],
      "authorship_tag": "ABX9TyP+FhGX31NCwQ8xXiXnJNW5",
      "include_colab_link": true
    },
    "kernelspec": {
      "name": "python3",
      "display_name": "Python 3"
    },
    "language_info": {
      "name": "python"
    }
  },
  "cells": [
    {
      "cell_type": "markdown",
      "metadata": {
        "id": "view-in-github",
        "colab_type": "text"
      },
      "source": [
        "<a href=\"https://colab.research.google.com/github/saurav11sarkar/Python-Pro-Bootcamp/blob/main/Day_2.ipynb\" target=\"_parent\"><img src=\"https://colab.research.google.com/assets/colab-badge.svg\" alt=\"Open In Colab\"/></a>"
      ]
    },
    {
      "cell_type": "code",
      "execution_count": null,
      "metadata": {
        "id": "OKsUG_wqPxlA",
        "colab": {
          "base_uri": "https://localhost:8080/",
          "height": 141
        },
        "outputId": "c8a12f2f-d15f-4a49-f368-f5e77b8419c7"
      },
      "outputs": [
        {
          "output_type": "error",
          "ename": "TypeError",
          "evalue": "object of type 'int' has no len()",
          "traceback": [
            "\u001b[0;31m---------------------------------------------------------------------------\u001b[0m",
            "\u001b[0;31mTypeError\u001b[0m                                 Traceback (most recent call last)",
            "\u001b[0;32m<ipython-input-1-cc4692b44e25>\u001b[0m in \u001b[0;36m<cell line: 1>\u001b[0;34m()\u001b[0m\n\u001b[0;32m----> 1\u001b[0;31m \u001b[0mprint\u001b[0m\u001b[0;34m(\u001b[0m\u001b[0mlen\u001b[0m\u001b[0;34m(\u001b[0m\u001b[0;36m123\u001b[0m\u001b[0;34m)\u001b[0m\u001b[0;34m)\u001b[0m\u001b[0;34m\u001b[0m\u001b[0;34m\u001b[0m\u001b[0m\n\u001b[0m",
            "\u001b[0;31mTypeError\u001b[0m: object of type 'int' has no len()"
          ]
        }
      ],
      "source": [
        "print(len(123))"
      ]
    },
    {
      "cell_type": "code",
      "source": [
        "'Hello'[0]"
      ],
      "metadata": {
        "colab": {
          "base_uri": "https://localhost:8080/",
          "height": 36
        },
        "id": "OA_oj30K7Zas",
        "outputId": "fde65d21-c845-4d16-9bef-410bbdabac02"
      },
      "execution_count": null,
      "outputs": [
        {
          "output_type": "execute_result",
          "data": {
            "text/plain": [
              "'h'"
            ],
            "application/vnd.google.colaboratory.intrinsic+json": {
              "type": "string"
            }
          },
          "metadata": {},
          "execution_count": 2
        }
      ]
    },
    {
      "cell_type": "code",
      "source": [
        "print('123'+'345')"
      ],
      "metadata": {
        "colab": {
          "base_uri": "https://localhost:8080/"
        },
        "id": "xqZI7TQY8PaZ",
        "outputId": "76eb93d4-1c82-4e43-ae88-186debadfbf7"
      },
      "execution_count": null,
      "outputs": [
        {
          "output_type": "stream",
          "name": "stdout",
          "text": [
            "123345\n"
          ]
        }
      ]
    },
    {
      "cell_type": "code",
      "source": [
        "num_char = len(input(\"What is your name?\"))\n",
        "new_num_char = str(num_char)\n",
        "print('Your name has '+ new_num_char +' characther')"
      ],
      "metadata": {
        "colab": {
          "base_uri": "https://localhost:8080/"
        },
        "id": "AYcUQKeu8pht",
        "outputId": "efe9d17d-659b-4559-a02c-b7c6cde0b226"
      },
      "execution_count": null,
      "outputs": [
        {
          "output_type": "stream",
          "name": "stdout",
          "text": [
            "What is your name?hi\n",
            "Your name has 2 characther\n"
          ]
        }
      ]
    },
    {
      "cell_type": "code",
      "source": [
        "num = input(\"Enter number : \")\n",
        "num1 = num[0]\n",
        "num2 = num[1]\n",
        "print(int(num1)+int(num2))"
      ],
      "metadata": {
        "colab": {
          "base_uri": "https://localhost:8080/"
        },
        "id": "UUdMtzw09SQR",
        "outputId": "17633389-78de-4fb9-fa3c-186d2fa14185"
      },
      "execution_count": null,
      "outputs": [
        {
          "output_type": "stream",
          "name": "stdout",
          "text": [
            "Enter number : 26\n",
            "8\n"
          ]
        }
      ]
    },
    {
      "cell_type": "code",
      "source": [
        "# BMI\n",
        "hight = float(input(\"Enter your hight : \"))\n",
        "wagit = int(input(\"Enter your weghit : \"))\n",
        "bmi = wagit/(hight**2)\n",
        "print(round(bmi,1))"
      ],
      "metadata": {
        "colab": {
          "base_uri": "https://localhost:8080/"
        },
        "id": "8UP5VD4bBESy",
        "outputId": "9f4393fd-7dd3-4bee-94c9-8753abaf7ab8"
      },
      "execution_count": null,
      "outputs": [
        {
          "output_type": "stream",
          "name": "stdout",
          "text": [
            "Enter your hight : 1.75\n",
            "Enter your weghit : 80\n",
            "26.1\n"
          ]
        }
      ]
    },
    {
      "cell_type": "code",
      "source": [
        "age = int(input(\"Enter your age : \"))\n",
        "year_re = 90 - age\n",
        "day_re = year_re * 365\n",
        "week_re = year_re * 52\n",
        "mount_re = year_re * 12\n",
        "print(f\"Days {day_re} , Weeks {week_re} , Mount {mount_re}\")"
      ],
      "metadata": {
        "colab": {
          "base_uri": "https://localhost:8080/"
        },
        "id": "j9KzDg-ATPpu",
        "outputId": "1aa588f3-f9a3-4b59-97a5-7a271728eaed"
      },
      "execution_count": null,
      "outputs": [
        {
          "output_type": "stream",
          "name": "stdout",
          "text": [
            "Enter your age : 23\n",
            "Days 24455 , Weeks 3484 , Mount 804\n"
          ]
        }
      ]
    },
    {
      "cell_type": "code",
      "source": [
        "# Tip Calcuater\n",
        "print(\"Wellcome to tip calcuter!🧑‍💻\")\n",
        "bill = float(input('What is the total bill $'))\n",
        "tip = int(input('What percentage tip would you like to give (10,12,15): $'))\n",
        "people = int(input('How many people split the bill : '))\n",
        "tip_per = tip / 100\n",
        "tip_mil = tip_per * bill\n",
        "total_tip = tip_mil + bill\n",
        "final_amount = total_tip / people\n",
        "round = round(final_amount,2)\n",
        "print(f\"Each person should be pay : ${round}\")"
      ],
      "metadata": {
        "colab": {
          "base_uri": "https://localhost:8080/"
        },
        "id": "s77Vh9Undu6y",
        "outputId": "68fad617-bdcc-4251-c4c7-2bdd0416ef66"
      },
      "execution_count": null,
      "outputs": [
        {
          "output_type": "stream",
          "name": "stdout",
          "text": [
            "Wellcome to tip calcuter!🧑‍💻\n",
            "What is the total bill $153.45\n",
            "What percentage tip would you like to give (10,12,15): $5\n",
            "How many people split the bill : 5\n",
            "Each person should be pay $32.22\n"
          ]
        }
      ]
    },
    {
      "cell_type": "code",
      "source": [],
      "metadata": {
        "id": "q8iPwKFOhdbb"
      },
      "execution_count": null,
      "outputs": []
    },
    {
      "cell_type": "code",
      "source": [],
      "metadata": {
        "id": "vv_SoV4Thgg5"
      },
      "execution_count": null,
      "outputs": []
    },
    {
      "cell_type": "code",
      "source": [],
      "metadata": {
        "id": "kLAw2sxBiC8-"
      },
      "execution_count": null,
      "outputs": []
    }
  ]
}