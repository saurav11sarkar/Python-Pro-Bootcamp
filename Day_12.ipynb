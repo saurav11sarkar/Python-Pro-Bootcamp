{
  "nbformat": 4,
  "nbformat_minor": 0,
  "metadata": {
    "colab": {
      "provenance": [],
      "authorship_tag": "ABX9TyNnrLGC3YNHfcXlrI9KumUC",
      "include_colab_link": true
    },
    "kernelspec": {
      "name": "python3",
      "display_name": "Python 3"
    },
    "language_info": {
      "name": "python"
    }
  },
  "cells": [
    {
      "cell_type": "markdown",
      "metadata": {
        "id": "view-in-github",
        "colab_type": "text"
      },
      "source": [
        "<a href=\"https://colab.research.google.com/github/saurav11sarkar/Python-Pro-Bootcamp/blob/main/Day_12.ipynb\" target=\"_parent\"><img src=\"https://colab.research.google.com/assets/colab-badge.svg\" alt=\"Open In Colab\"/></a>"
      ]
    },
    {
      "cell_type": "code",
      "source": [
        "# scope\n",
        "enemies = 1\n",
        "def increase_enemies():\n",
        "  enemies = 2\n",
        "  print(f\"enmies inside funcation {enemies}\")\n",
        "\n",
        "increase_enemies()\n",
        "print(f\"enmies outside funcation {enemies}\")"
      ],
      "metadata": {
        "colab": {
          "base_uri": "https://localhost:8080/"
        },
        "id": "t_KMqFWM_Nqt",
        "outputId": "640568d0-f891-44f3-f542-4fe09e897461"
      },
      "execution_count": null,
      "outputs": [
        {
          "output_type": "stream",
          "name": "stdout",
          "text": [
            "enmies inside funcation 2\n",
            "enmies outside funcation 1\n"
          ]
        }
      ]
    },
    {
      "cell_type": "code",
      "source": [
        "# Local scope\n",
        "def drink_potion():\n",
        "  potion_strength = 2\n",
        "  print(potion_strength)\n",
        "\n",
        "drink_potion()\n",
        "print(potion_strength)"
      ],
      "metadata": {
        "colab": {
          "base_uri": "https://localhost:8080/",
          "height": 200
        },
        "id": "qCqoSTEFAHJ3",
        "outputId": "83848e4c-2060-462e-f271-8b18fe1a8766"
      },
      "execution_count": null,
      "outputs": [
        {
          "output_type": "stream",
          "name": "stdout",
          "text": [
            "2\n"
          ]
        },
        {
          "output_type": "error",
          "ename": "NameError",
          "evalue": "name 'potion_strength' is not defined",
          "traceback": [
            "\u001b[0;31m---------------------------------------------------------------------------\u001b[0m",
            "\u001b[0;31mNameError\u001b[0m                                 Traceback (most recent call last)",
            "\u001b[0;32m<ipython-input-4-b7fd9e62a592>\u001b[0m in \u001b[0;36m<cell line: 7>\u001b[0;34m()\u001b[0m\n\u001b[1;32m      5\u001b[0m \u001b[0;34m\u001b[0m\u001b[0m\n\u001b[1;32m      6\u001b[0m \u001b[0mdrink_potion\u001b[0m\u001b[0;34m(\u001b[0m\u001b[0;34m)\u001b[0m\u001b[0;34m\u001b[0m\u001b[0;34m\u001b[0m\u001b[0m\n\u001b[0;32m----> 7\u001b[0;31m \u001b[0mprint\u001b[0m\u001b[0;34m(\u001b[0m\u001b[0mpotion_strength\u001b[0m\u001b[0;34m)\u001b[0m\u001b[0;34m\u001b[0m\u001b[0;34m\u001b[0m\u001b[0m\n\u001b[0m",
            "\u001b[0;31mNameError\u001b[0m: name 'potion_strength' is not defined"
          ]
        }
      ]
    },
    {
      "cell_type": "code",
      "source": [
        "# Global scope\n",
        "player_health = 10\n",
        "def drink_potion():\n",
        "  potion_strength = 2\n",
        "  print(player_health)\n",
        "\n",
        "drink_potion()\n",
        "print(player_health)"
      ],
      "metadata": {
        "colab": {
          "base_uri": "https://localhost:8080/"
        },
        "id": "Clj0N7RVET8M",
        "outputId": "e385548f-b667-4680-a2df-a1a1350fbac1"
      },
      "execution_count": null,
      "outputs": [
        {
          "output_type": "stream",
          "name": "stdout",
          "text": [
            "10\n",
            "10\n"
          ]
        }
      ]
    },
    {
      "cell_type": "code",
      "source": [
        "player_health = 10\n",
        "def game():\n",
        "  def drink_potion():\n",
        "    potion_strength = 2\n",
        "    print(player_health)\n",
        "\n",
        "  drink_potion()\n",
        "\n",
        "game()\n",
        "print(player_health)"
      ],
      "metadata": {
        "colab": {
          "base_uri": "https://localhost:8080/"
        },
        "id": "qieMdCHLHFiG",
        "outputId": "3713cf7a-3d2e-4190-e37b-28d50232dbdb"
      },
      "execution_count": null,
      "outputs": [
        {
          "output_type": "stream",
          "name": "stdout",
          "text": [
            "10\n",
            "10\n"
          ]
        }
      ]
    },
    {
      "cell_type": "code",
      "source": [
        "# There is no block scope\n",
        "game_lavel = 3\n",
        "def creat_enemy():\n",
        "  enemies = ['Skeletion','Zombie','Alien']\n",
        "  if game_lavel < 5:\n",
        "    new_enemies = enemies[0]\n",
        "  print(new_enemies)\n",
        "\n",
        "creat_enemy()"
      ],
      "metadata": {
        "colab": {
          "base_uri": "https://localhost:8080/"
        },
        "id": "AnAOz0lIH1zh",
        "outputId": "fe3ad222-95b4-4d39-d23c-2140d62a2ae5"
      },
      "execution_count": null,
      "outputs": [
        {
          "output_type": "stream",
          "name": "stdout",
          "text": [
            "Skeletion\n"
          ]
        }
      ]
    },
    {
      "cell_type": "code",
      "source": [
        "# Modifying Global Scope\n",
        "enemies = 1\n",
        "def increase_enemies():\n",
        "  global enemies\n",
        "  enemies += 1\n",
        "  print(f\"enmies inside funcation: {enemies}\")\n",
        "\n",
        "increase_enemies()\n",
        "print(f\"enmies outside funcation: {enemies}\")"
      ],
      "metadata": {
        "colab": {
          "base_uri": "https://localhost:8080/"
        },
        "id": "7sPkLzUjJqEy",
        "outputId": "4aac4293-b86c-4b9c-c3c4-f05aa6f6403f"
      },
      "execution_count": null,
      "outputs": [
        {
          "output_type": "stream",
          "name": "stdout",
          "text": [
            "enmies inside funcation: 2\n",
            "enmies outside funcation: 2\n"
          ]
        }
      ]
    },
    {
      "cell_type": "code",
      "source": [
        "# Global Constants\n",
        "import math\n",
        "pi = round(math.pi,4)\n",
        "url = \"https://www.google.com\"\n",
        "x_hendle = \"@yu_angela\"\n",
        "\n",
        "def cell():\n",
        "  # global x_hendle\n",
        "  x_hendle = 'hello'\n",
        "  print(x_hendle)\n",
        "\n",
        "cell()\n",
        "print(x_hendle)"
      ],
      "metadata": {
        "colab": {
          "base_uri": "https://localhost:8080/"
        },
        "id": "EDxuHNgqKkB8",
        "outputId": "9ea69090-0980-45db-ddb8-2aaa9dccc03c"
      },
      "execution_count": null,
      "outputs": [
        {
          "output_type": "stream",
          "name": "stdout",
          "text": [
            "hello\n",
            "@yu_angela\n"
          ]
        }
      ]
    },
    {
      "cell_type": "code",
      "source": [
        "#  Number Guessing Game!\n",
        "import random\n",
        "print(\"Welcome to the Number Guessing Game!\")\n",
        "print(\"I'm thinkin of a number between 1 and 100\")\n",
        "choose = input('Choose a difficulty.Type\\'easy'' or\\'hard\\': ')\n",
        "\n",
        "random_number = random.randint(1,100)\n",
        "print(random_number)\n",
        "\n",
        "if choose == 'easy':\n",
        "  print('You have 10 attempts remaing to guess the number!')\n",
        "  count = 1\n",
        "  while count <= 10:\n",
        "    x = int(input(\"make a guess : \"))\n",
        "    print(count)\n",
        "\n",
        "    if x == random_number:\n",
        "      print('You are wine')\n",
        "      count += 1\n",
        "      break\n",
        "    if x > random_number:\n",
        "      count += 1\n",
        "      if count > 10:\n",
        "        print('You lost')\n",
        "      else:\n",
        "        print(\"greater\")\n",
        "    if x < random_number:\n",
        "      count += 1\n",
        "      if count > 10:\n",
        "        print('You lost')\n",
        "      else:\n",
        "        print(\"smaller\")\n",
        "\n",
        "\n",
        "elif choose == 'hard':\n",
        "  print('You have 5 attempts remaing to guess the number!')\n",
        "  count = 1\n",
        "  while count <= 5:\n",
        "    x = int(input(\"make a guess : \"))\n",
        "    print(count)\n",
        "    count += 1\n",
        "    if count > 5:\n",
        "      print('You lost')\n",
        "    if x == random_number:\n",
        "      print('You are wine')\n",
        "      break\n",
        "    elif x > random_number:\n",
        "      print(\"greater\")\n",
        "    elif x < random_number:\n",
        "      print(\"smaller\")"
      ],
      "metadata": {
        "colab": {
          "base_uri": "https://localhost:8080/"
        },
        "id": "FRCULcrOM0rt",
        "outputId": "82678f40-8d67-4318-aaa1-3b507b57801c"
      },
      "execution_count": null,
      "outputs": [
        {
          "output_type": "stream",
          "name": "stdout",
          "text": [
            "Welcome to the Number Guessing Game!\n",
            "I'm thinkin of a number between 1 and 100\n",
            "Choose a difficulty.Type'easy or'hard': easy\n",
            "11\n",
            "You have 10 attempts remaing to guess the number!\n",
            "make a guess : 2\n",
            "1\n",
            "smaller\n",
            "make a guess : 3\n",
            "2\n",
            "smaller\n",
            "make a guess : 45\n",
            "3\n",
            "greater\n",
            "make a guess : 67\n",
            "4\n",
            "greater\n",
            "make a guess : 1\n",
            "5\n",
            "smaller\n",
            "make a guess : 78\n",
            "6\n",
            "greater\n",
            "make a guess : 23\n",
            "7\n",
            "greater\n",
            "make a guess : 78\n",
            "8\n",
            "greater\n",
            "make a guess : 90\n",
            "9\n",
            "greater\n",
            "make a guess : 12\n",
            "10\n",
            "You lost\n"
          ]
        }
      ]
    },
    {
      "cell_type": "code",
      "source": [
        "logo = \"\"\"\n",
        "  ____ _   _ _____ ____ ____    _   _ _   _ __  __ ____  _____ ____\n",
        " / ___| | | | ____/ ___/ ___|  | \\ | | | | |  \\/  | __ )| ____|  _ \\\n",
        "| |  _| | | |  _| \\___ \\___ \\  |  \\| | | | | |\\/| |  _ \\|  _| | |_) |\n",
        "| |_| | |_| | |___ ___) |__) | | |\\  | |_| | |  | | |_) | |___|  _ <\n",
        " \\____|\\___/|_____|____/____/  |_| \\_|\\___/|_|  |_|____/|_____|_| \\_\\\n",
        "\\n\"\"\""
      ],
      "metadata": {
        "id": "0_JKpUhnSnsm"
      },
      "execution_count": 7,
      "outputs": []
    },
    {
      "cell_type": "code",
      "source": [
        "from random import randint\n",
        "print(logo)\n",
        "EASY_LEVEL_TURNS = 10\n",
        "HARD_LEVEL_TURNS = 5\n",
        "\n",
        "# Make function check answer\n",
        "def check_answer(gess,answer,turns):\n",
        "  if gess > answer:\n",
        "    print(\"Too high\")\n",
        "    return turns - 1\n",
        "  elif gess < answer:\n",
        "    print('Too low')\n",
        "    return turns - 1\n",
        "  else:\n",
        "    print(f\"You get it! The answer was {answer}.\")\n",
        "\n",
        "# Make function to set difficulty.\n",
        "def set_difficulty():\n",
        "  level = input(\"Choose a difficulty.Type 'easy' or 'hard': \").lower()\n",
        "  if level == 'easy':\n",
        "    return EASY_LEVEL_TURNS\n",
        "  else:\n",
        "    return HARD_LEVEL_TURNS\n",
        "\n",
        "def game():\n",
        "  # Choosing a random number between 1 t 100\n",
        "  print(\"I'm thinkin of a number between 1 and 100\")\n",
        "  answer = randint(1,100)\n",
        "\n",
        "  print(f\"Pass, the curret number {answer}\")\n",
        "  turns = set_difficulty()\n",
        "\n",
        "\n",
        "  gess = 0\n",
        "  while gess != answer:\n",
        "    print(f\"You have {turns} attempts remaining to guess the number.\")\n",
        "    # Function to check user's guess against actual answer.\n",
        "    gess = int(input(\"Make a guess:\"))\n",
        "    turns = check_answer(gess,answer,turns)\n",
        "\n",
        "    if turns == 0:\n",
        "      print(\"You've run out of guesses, you lose.\")\n",
        "      return\n",
        "    elif gess != answer:\n",
        "      print(\"Guess again\")\n",
        "\n",
        "game()"
      ],
      "metadata": {
        "colab": {
          "base_uri": "https://localhost:8080/"
        },
        "id": "xFwM2shyAqcX",
        "outputId": "a7bfa284-f0f4-4695-d567-02e12b31b742"
      },
      "execution_count": 13,
      "outputs": [
        {
          "output_type": "stream",
          "name": "stdout",
          "text": [
            "\n",
            "  ____ _   _ _____ ____ ____    _   _ _   _ __  __ ____  _____ ____  \n",
            " / ___| | | | ____/ ___/ ___|  | \\ | | | | |  \\/  | __ )| ____|  _ \\ \n",
            "| |  _| | | |  _| \\___ \\___ \\  |  \\| | | | | |\\/| |  _ \\|  _| | |_) |\n",
            "| |_| | |_| | |___ ___) |__) | | |\\  | |_| | |  | | |_) | |___|  _ < \n",
            " \\____|\\___/|_____|____/____/  |_| \\_|\\___/|_|  |_|____/|_____|_| \\_\n",
            "\n",
            "I'm thinkin of a number between 1 and 100\n",
            "Pass, the curret number 77\n",
            "Choose a difficulty.Type 'easy' or 'hard': hard\n",
            "You have 5 attempts remaining to guess the number.\n",
            "Make a guess:34\n",
            "Too low\n",
            "You have 4 attempts remaining to guess the number.\n",
            "Make a guess:10\n",
            "Too low\n",
            "You have 3 attempts remaining to guess the number.\n",
            "Make a guess:00\n",
            "Too low\n",
            "You have 2 attempts remaining to guess the number.\n",
            "Make a guess:200\n",
            "Too high\n",
            "You have 1 attempts remaining to guess the number.\n",
            "Make a guess:56\n",
            "Too low\n",
            "You've run out of guesses, you lose.\n"
          ]
        }
      ]
    },
    {
      "cell_type": "code",
      "source": [],
      "metadata": {
        "id": "PV2EgV6qDH2J"
      },
      "execution_count": null,
      "outputs": []
    }
  ]
}